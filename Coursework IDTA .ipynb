{
 "cells": [
  {
   "cell_type": "code",
   "execution_count": 1,
   "id": "54f8d88c",
   "metadata": {},
   "outputs": [],
   "source": [
    "import numpy as np\n",
    "import pandas as pd\n",
    "import matplotlib\n",
    "\n",
    "import matplotlib.pyplot as plt\n",
    "\n",
    "\n",
    "%matplotlib inline"
   ]
  },
  {
   "cell_type": "code",
   "execution_count": null,
   "id": "ce8164d1",
   "metadata": {},
   "outputs": [],
   "source": []
  },
  {
   "cell_type": "code",
   "execution_count": 2,
   "id": "c5d3889f",
   "metadata": {},
   "outputs": [],
   "source": [
    "census = pd.read_csv(\"census.csv\")"
   ]
  },
  {
   "cell_type": "code",
   "execution_count": 3,
   "id": "02b1d0b6",
   "metadata": {},
   "outputs": [
    {
     "data": {
      "text/html": [
       "<div>\n",
       "<style scoped>\n",
       "    .dataframe tbody tr th:only-of-type {\n",
       "        vertical-align: middle;\n",
       "    }\n",
       "\n",
       "    .dataframe tbody tr th {\n",
       "        vertical-align: top;\n",
       "    }\n",
       "\n",
       "    .dataframe thead th {\n",
       "        text-align: right;\n",
       "    }\n",
       "</style>\n",
       "<table border=\"1\" class=\"dataframe\">\n",
       "  <thead>\n",
       "    <tr style=\"text-align: right;\">\n",
       "      <th></th>\n",
       "      <th>Person ID</th>\n",
       "      <th>Region</th>\n",
       "      <th>Residence Type</th>\n",
       "      <th>Family Composition</th>\n",
       "      <th>Population Base</th>\n",
       "      <th>Sex</th>\n",
       "      <th>Age</th>\n",
       "      <th>Marital Status</th>\n",
       "      <th>Student</th>\n",
       "      <th>Country of Birth</th>\n",
       "      <th>Health</th>\n",
       "      <th>Ethnic Group</th>\n",
       "      <th>Religion</th>\n",
       "      <th>Economic Activity</th>\n",
       "      <th>Occupation</th>\n",
       "      <th>Industry</th>\n",
       "      <th>Hours worked per week</th>\n",
       "      <th>No of hours</th>\n",
       "      <th>Approximated Social Grade</th>\n",
       "    </tr>\n",
       "  </thead>\n",
       "  <tbody>\n",
       "    <tr>\n",
       "      <th>0</th>\n",
       "      <td>7394816</td>\n",
       "      <td>E12000001</td>\n",
       "      <td>H</td>\n",
       "      <td>2</td>\n",
       "      <td>1</td>\n",
       "      <td>2</td>\n",
       "      <td>6</td>\n",
       "      <td>2</td>\n",
       "      <td>2</td>\n",
       "      <td>1</td>\n",
       "      <td>2</td>\n",
       "      <td>1</td>\n",
       "      <td>2</td>\n",
       "      <td>5</td>\n",
       "      <td>8</td>\n",
       "      <td>2</td>\n",
       "      <td>-9</td>\n",
       "      <td>NaN</td>\n",
       "      <td>4</td>\n",
       "    </tr>\n",
       "    <tr>\n",
       "      <th>1</th>\n",
       "      <td>7394832</td>\n",
       "      <td>E12000001</td>\n",
       "      <td>H</td>\n",
       "      <td>3</td>\n",
       "      <td>1</td>\n",
       "      <td>2</td>\n",
       "      <td>1</td>\n",
       "      <td>1</td>\n",
       "      <td>2</td>\n",
       "      <td>1</td>\n",
       "      <td>2</td>\n",
       "      <td>1</td>\n",
       "      <td>1</td>\n",
       "      <td>-9</td>\n",
       "      <td>-9</td>\n",
       "      <td>-9</td>\n",
       "      <td>-9</td>\n",
       "      <td>NaN</td>\n",
       "      <td>-9</td>\n",
       "    </tr>\n",
       "    <tr>\n",
       "      <th>2</th>\n",
       "      <td>7394719</td>\n",
       "      <td>E12000001</td>\n",
       "      <td>H</td>\n",
       "      <td>2</td>\n",
       "      <td>1</td>\n",
       "      <td>1</td>\n",
       "      <td>7</td>\n",
       "      <td>2</td>\n",
       "      <td>2</td>\n",
       "      <td>1</td>\n",
       "      <td>1</td>\n",
       "      <td>1</td>\n",
       "      <td>2</td>\n",
       "      <td>5</td>\n",
       "      <td>8</td>\n",
       "      <td>2</td>\n",
       "      <td>-9</td>\n",
       "      <td>NaN</td>\n",
       "      <td>2</td>\n",
       "    </tr>\n",
       "    <tr>\n",
       "      <th>3</th>\n",
       "      <td>7394840</td>\n",
       "      <td>E12000001</td>\n",
       "      <td>H</td>\n",
       "      <td>1</td>\n",
       "      <td>1</td>\n",
       "      <td>2</td>\n",
       "      <td>6</td>\n",
       "      <td>4</td>\n",
       "      <td>2</td>\n",
       "      <td>1</td>\n",
       "      <td>3</td>\n",
       "      <td>1</td>\n",
       "      <td>2</td>\n",
       "      <td>5</td>\n",
       "      <td>9</td>\n",
       "      <td>5</td>\n",
       "      <td>-9</td>\n",
       "      <td>NaN</td>\n",
       "      <td>4</td>\n",
       "    </tr>\n",
       "    <tr>\n",
       "      <th>4</th>\n",
       "      <td>7394711</td>\n",
       "      <td>E12000001</td>\n",
       "      <td>H</td>\n",
       "      <td>2</td>\n",
       "      <td>1</td>\n",
       "      <td>1</td>\n",
       "      <td>1</td>\n",
       "      <td>1</td>\n",
       "      <td>1</td>\n",
       "      <td>1</td>\n",
       "      <td>1</td>\n",
       "      <td>1</td>\n",
       "      <td>1</td>\n",
       "      <td>-9</td>\n",
       "      <td>-9</td>\n",
       "      <td>-9</td>\n",
       "      <td>-9</td>\n",
       "      <td>NaN</td>\n",
       "      <td>-9</td>\n",
       "    </tr>\n",
       "    <tr>\n",
       "      <th>5</th>\n",
       "      <td>7394869</td>\n",
       "      <td>E12000001</td>\n",
       "      <td>H</td>\n",
       "      <td>1</td>\n",
       "      <td>1</td>\n",
       "      <td>2</td>\n",
       "      <td>2</td>\n",
       "      <td>1</td>\n",
       "      <td>1</td>\n",
       "      <td>1</td>\n",
       "      <td>2</td>\n",
       "      <td>1</td>\n",
       "      <td>1</td>\n",
       "      <td>4</td>\n",
       "      <td>-9</td>\n",
       "      <td>-9</td>\n",
       "      <td>-9</td>\n",
       "      <td>NaN</td>\n",
       "      <td>2</td>\n",
       "    </tr>\n",
       "    <tr>\n",
       "      <th>6</th>\n",
       "      <td>7395019</td>\n",
       "      <td>E12000001</td>\n",
       "      <td>H</td>\n",
       "      <td>1</td>\n",
       "      <td>1</td>\n",
       "      <td>2</td>\n",
       "      <td>2</td>\n",
       "      <td>1</td>\n",
       "      <td>1</td>\n",
       "      <td>1</td>\n",
       "      <td>2</td>\n",
       "      <td>1</td>\n",
       "      <td>1</td>\n",
       "      <td>4</td>\n",
       "      <td>7</td>\n",
       "      <td>6</td>\n",
       "      <td>-9</td>\n",
       "      <td>NaN</td>\n",
       "      <td>2</td>\n",
       "    </tr>\n",
       "    <tr>\n",
       "      <th>7</th>\n",
       "      <td>7394933</td>\n",
       "      <td>E12000001</td>\n",
       "      <td>H</td>\n",
       "      <td>3</td>\n",
       "      <td>1</td>\n",
       "      <td>1</td>\n",
       "      <td>2</td>\n",
       "      <td>1</td>\n",
       "      <td>1</td>\n",
       "      <td>1</td>\n",
       "      <td>1</td>\n",
       "      <td>1</td>\n",
       "      <td>1</td>\n",
       "      <td>6</td>\n",
       "      <td>-9</td>\n",
       "      <td>-9</td>\n",
       "      <td>-9</td>\n",
       "      <td>NaN</td>\n",
       "      <td>2</td>\n",
       "    </tr>\n",
       "    <tr>\n",
       "      <th>8</th>\n",
       "      <td>7394875</td>\n",
       "      <td>E12000001</td>\n",
       "      <td>H</td>\n",
       "      <td>2</td>\n",
       "      <td>1</td>\n",
       "      <td>1</td>\n",
       "      <td>1</td>\n",
       "      <td>1</td>\n",
       "      <td>1</td>\n",
       "      <td>1</td>\n",
       "      <td>1</td>\n",
       "      <td>1</td>\n",
       "      <td>2</td>\n",
       "      <td>-9</td>\n",
       "      <td>-9</td>\n",
       "      <td>-9</td>\n",
       "      <td>-9</td>\n",
       "      <td>NaN</td>\n",
       "      <td>-9</td>\n",
       "    </tr>\n",
       "    <tr>\n",
       "      <th>9</th>\n",
       "      <td>7394764</td>\n",
       "      <td>E12000001</td>\n",
       "      <td>H</td>\n",
       "      <td>2</td>\n",
       "      <td>1</td>\n",
       "      <td>1</td>\n",
       "      <td>7</td>\n",
       "      <td>2</td>\n",
       "      <td>2</td>\n",
       "      <td>1</td>\n",
       "      <td>3</td>\n",
       "      <td>1</td>\n",
       "      <td>2</td>\n",
       "      <td>5</td>\n",
       "      <td>9</td>\n",
       "      <td>2</td>\n",
       "      <td>-9</td>\n",
       "      <td>NaN</td>\n",
       "      <td>4</td>\n",
       "    </tr>\n",
       "    <tr>\n",
       "      <th>10</th>\n",
       "      <td>7395021</td>\n",
       "      <td>E12000001</td>\n",
       "      <td>H</td>\n",
       "      <td>2</td>\n",
       "      <td>1</td>\n",
       "      <td>1</td>\n",
       "      <td>8</td>\n",
       "      <td>2</td>\n",
       "      <td>2</td>\n",
       "      <td>1</td>\n",
       "      <td>3</td>\n",
       "      <td>1</td>\n",
       "      <td>2</td>\n",
       "      <td>5</td>\n",
       "      <td>5</td>\n",
       "      <td>2</td>\n",
       "      <td>-9</td>\n",
       "      <td>NaN</td>\n",
       "      <td>3</td>\n",
       "    </tr>\n",
       "    <tr>\n",
       "      <th>11</th>\n",
       "      <td>7395361</td>\n",
       "      <td>E12000001</td>\n",
       "      <td>H</td>\n",
       "      <td>2</td>\n",
       "      <td>1</td>\n",
       "      <td>1</td>\n",
       "      <td>1</td>\n",
       "      <td>1</td>\n",
       "      <td>1</td>\n",
       "      <td>1</td>\n",
       "      <td>1</td>\n",
       "      <td>1</td>\n",
       "      <td>2</td>\n",
       "      <td>-9</td>\n",
       "      <td>-9</td>\n",
       "      <td>-9</td>\n",
       "      <td>-9</td>\n",
       "      <td>NaN</td>\n",
       "      <td>-9</td>\n",
       "    </tr>\n",
       "    <tr>\n",
       "      <th>12</th>\n",
       "      <td>7394920</td>\n",
       "      <td>E12000001</td>\n",
       "      <td>H</td>\n",
       "      <td>2</td>\n",
       "      <td>1</td>\n",
       "      <td>2</td>\n",
       "      <td>1</td>\n",
       "      <td>1</td>\n",
       "      <td>1</td>\n",
       "      <td>1</td>\n",
       "      <td>1</td>\n",
       "      <td>1</td>\n",
       "      <td>1</td>\n",
       "      <td>-9</td>\n",
       "      <td>-9</td>\n",
       "      <td>-9</td>\n",
       "      <td>-9</td>\n",
       "      <td>NaN</td>\n",
       "      <td>-9</td>\n",
       "    </tr>\n",
       "    <tr>\n",
       "      <th>13</th>\n",
       "      <td>7394663</td>\n",
       "      <td>E12000001</td>\n",
       "      <td>H</td>\n",
       "      <td>1</td>\n",
       "      <td>1</td>\n",
       "      <td>2</td>\n",
       "      <td>8</td>\n",
       "      <td>5</td>\n",
       "      <td>2</td>\n",
       "      <td>1</td>\n",
       "      <td>3</td>\n",
       "      <td>1</td>\n",
       "      <td>2</td>\n",
       "      <td>5</td>\n",
       "      <td>1</td>\n",
       "      <td>5</td>\n",
       "      <td>-9</td>\n",
       "      <td>NaN</td>\n",
       "      <td>2</td>\n",
       "    </tr>\n",
       "    <tr>\n",
       "      <th>14</th>\n",
       "      <td>7394695</td>\n",
       "      <td>E12000001</td>\n",
       "      <td>H</td>\n",
       "      <td>2</td>\n",
       "      <td>1</td>\n",
       "      <td>2</td>\n",
       "      <td>5</td>\n",
       "      <td>2</td>\n",
       "      <td>2</td>\n",
       "      <td>1</td>\n",
       "      <td>2</td>\n",
       "      <td>1</td>\n",
       "      <td>2</td>\n",
       "      <td>3</td>\n",
       "      <td>8</td>\n",
       "      <td>2</td>\n",
       "      <td>-9</td>\n",
       "      <td>NaN</td>\n",
       "      <td>4</td>\n",
       "    </tr>\n",
       "    <tr>\n",
       "      <th>15</th>\n",
       "      <td>7394893</td>\n",
       "      <td>E12000001</td>\n",
       "      <td>H</td>\n",
       "      <td>1</td>\n",
       "      <td>1</td>\n",
       "      <td>1</td>\n",
       "      <td>6</td>\n",
       "      <td>1</td>\n",
       "      <td>2</td>\n",
       "      <td>1</td>\n",
       "      <td>1</td>\n",
       "      <td>1</td>\n",
       "      <td>2</td>\n",
       "      <td>5</td>\n",
       "      <td>3</td>\n",
       "      <td>2</td>\n",
       "      <td>-9</td>\n",
       "      <td>NaN</td>\n",
       "      <td>2</td>\n",
       "    </tr>\n",
       "    <tr>\n",
       "      <th>16</th>\n",
       "      <td>7394899</td>\n",
       "      <td>E12000001</td>\n",
       "      <td>H</td>\n",
       "      <td>2</td>\n",
       "      <td>1</td>\n",
       "      <td>2</td>\n",
       "      <td>6</td>\n",
       "      <td>2</td>\n",
       "      <td>2</td>\n",
       "      <td>1</td>\n",
       "      <td>3</td>\n",
       "      <td>1</td>\n",
       "      <td>2</td>\n",
       "      <td>5</td>\n",
       "      <td>6</td>\n",
       "      <td>12</td>\n",
       "      <td>-9</td>\n",
       "      <td>NaN</td>\n",
       "      <td>3</td>\n",
       "    </tr>\n",
       "    <tr>\n",
       "      <th>17</th>\n",
       "      <td>7394657</td>\n",
       "      <td>E12000001</td>\n",
       "      <td>H</td>\n",
       "      <td>2</td>\n",
       "      <td>1</td>\n",
       "      <td>1</td>\n",
       "      <td>8</td>\n",
       "      <td>2</td>\n",
       "      <td>2</td>\n",
       "      <td>1</td>\n",
       "      <td>2</td>\n",
       "      <td>1</td>\n",
       "      <td>2</td>\n",
       "      <td>5</td>\n",
       "      <td>8</td>\n",
       "      <td>2</td>\n",
       "      <td>-9</td>\n",
       "      <td>NaN</td>\n",
       "      <td>4</td>\n",
       "    </tr>\n",
       "    <tr>\n",
       "      <th>18</th>\n",
       "      <td>7394529</td>\n",
       "      <td>E12000001</td>\n",
       "      <td>H</td>\n",
       "      <td>3</td>\n",
       "      <td>1</td>\n",
       "      <td>2</td>\n",
       "      <td>1</td>\n",
       "      <td>1</td>\n",
       "      <td>1</td>\n",
       "      <td>1</td>\n",
       "      <td>2</td>\n",
       "      <td>1</td>\n",
       "      <td>1</td>\n",
       "      <td>-9</td>\n",
       "      <td>-9</td>\n",
       "      <td>-9</td>\n",
       "      <td>-9</td>\n",
       "      <td>NaN</td>\n",
       "      <td>-9</td>\n",
       "    </tr>\n",
       "    <tr>\n",
       "      <th>19</th>\n",
       "      <td>7394682</td>\n",
       "      <td>E12000001</td>\n",
       "      <td>H</td>\n",
       "      <td>3</td>\n",
       "      <td>1</td>\n",
       "      <td>2</td>\n",
       "      <td>1</td>\n",
       "      <td>1</td>\n",
       "      <td>1</td>\n",
       "      <td>1</td>\n",
       "      <td>2</td>\n",
       "      <td>1</td>\n",
       "      <td>1</td>\n",
       "      <td>-9</td>\n",
       "      <td>-9</td>\n",
       "      <td>-9</td>\n",
       "      <td>-9</td>\n",
       "      <td>NaN</td>\n",
       "      <td>-9</td>\n",
       "    </tr>\n",
       "  </tbody>\n",
       "</table>\n",
       "</div>"
      ],
      "text/plain": [
       "    Person ID     Region Residence Type  Family Composition  Population Base  \\\n",
       "0     7394816  E12000001              H                   2                1   \n",
       "1     7394832  E12000001              H                   3                1   \n",
       "2     7394719  E12000001              H                   2                1   \n",
       "3     7394840  E12000001              H                   1                1   \n",
       "4     7394711  E12000001              H                   2                1   \n",
       "5     7394869  E12000001              H                   1                1   \n",
       "6     7395019  E12000001              H                   1                1   \n",
       "7     7394933  E12000001              H                   3                1   \n",
       "8     7394875  E12000001              H                   2                1   \n",
       "9     7394764  E12000001              H                   2                1   \n",
       "10    7395021  E12000001              H                   2                1   \n",
       "11    7395361  E12000001              H                   2                1   \n",
       "12    7394920  E12000001              H                   2                1   \n",
       "13    7394663  E12000001              H                   1                1   \n",
       "14    7394695  E12000001              H                   2                1   \n",
       "15    7394893  E12000001              H                   1                1   \n",
       "16    7394899  E12000001              H                   2                1   \n",
       "17    7394657  E12000001              H                   2                1   \n",
       "18    7394529  E12000001              H                   3                1   \n",
       "19    7394682  E12000001              H                   3                1   \n",
       "\n",
       "    Sex  Age  Marital Status  Student  Country of Birth  Health  Ethnic Group  \\\n",
       "0     2    6               2        2                 1       2             1   \n",
       "1     2    1               1        2                 1       2             1   \n",
       "2     1    7               2        2                 1       1             1   \n",
       "3     2    6               4        2                 1       3             1   \n",
       "4     1    1               1        1                 1       1             1   \n",
       "5     2    2               1        1                 1       2             1   \n",
       "6     2    2               1        1                 1       2             1   \n",
       "7     1    2               1        1                 1       1             1   \n",
       "8     1    1               1        1                 1       1             1   \n",
       "9     1    7               2        2                 1       3             1   \n",
       "10    1    8               2        2                 1       3             1   \n",
       "11    1    1               1        1                 1       1             1   \n",
       "12    2    1               1        1                 1       1             1   \n",
       "13    2    8               5        2                 1       3             1   \n",
       "14    2    5               2        2                 1       2             1   \n",
       "15    1    6               1        2                 1       1             1   \n",
       "16    2    6               2        2                 1       3             1   \n",
       "17    1    8               2        2                 1       2             1   \n",
       "18    2    1               1        1                 1       2             1   \n",
       "19    2    1               1        1                 1       2             1   \n",
       "\n",
       "    Religion  Economic Activity  Occupation  Industry  Hours worked per week  \\\n",
       "0          2                  5           8         2                     -9   \n",
       "1          1                 -9          -9        -9                     -9   \n",
       "2          2                  5           8         2                     -9   \n",
       "3          2                  5           9         5                     -9   \n",
       "4          1                 -9          -9        -9                     -9   \n",
       "5          1                  4          -9        -9                     -9   \n",
       "6          1                  4           7         6                     -9   \n",
       "7          1                  6          -9        -9                     -9   \n",
       "8          2                 -9          -9        -9                     -9   \n",
       "9          2                  5           9         2                     -9   \n",
       "10         2                  5           5         2                     -9   \n",
       "11         2                 -9          -9        -9                     -9   \n",
       "12         1                 -9          -9        -9                     -9   \n",
       "13         2                  5           1         5                     -9   \n",
       "14         2                  3           8         2                     -9   \n",
       "15         2                  5           3         2                     -9   \n",
       "16         2                  5           6        12                     -9   \n",
       "17         2                  5           8         2                     -9   \n",
       "18         1                 -9          -9        -9                     -9   \n",
       "19         1                 -9          -9        -9                     -9   \n",
       "\n",
       "    No of hours  Approximated Social Grade  \n",
       "0           NaN                          4  \n",
       "1           NaN                         -9  \n",
       "2           NaN                          2  \n",
       "3           NaN                          4  \n",
       "4           NaN                         -9  \n",
       "5           NaN                          2  \n",
       "6           NaN                          2  \n",
       "7           NaN                          2  \n",
       "8           NaN                         -9  \n",
       "9           NaN                          4  \n",
       "10          NaN                          3  \n",
       "11          NaN                         -9  \n",
       "12          NaN                         -9  \n",
       "13          NaN                          2  \n",
       "14          NaN                          4  \n",
       "15          NaN                          2  \n",
       "16          NaN                          3  \n",
       "17          NaN                          4  \n",
       "18          NaN                         -9  \n",
       "19          NaN                         -9  "
      ]
     },
     "execution_count": 3,
     "metadata": {},
     "output_type": "execute_result"
    }
   ],
   "source": [
    "census.head(20)"
   ]
  },
  {
   "cell_type": "code",
   "execution_count": 4,
   "id": "0129edf8",
   "metadata": {
    "scrolled": true
   },
   "outputs": [
    {
     "data": {
      "text/html": [
       "<div>\n",
       "<style scoped>\n",
       "    .dataframe tbody tr th:only-of-type {\n",
       "        vertical-align: middle;\n",
       "    }\n",
       "\n",
       "    .dataframe tbody tr th {\n",
       "        vertical-align: top;\n",
       "    }\n",
       "\n",
       "    .dataframe thead th {\n",
       "        text-align: right;\n",
       "    }\n",
       "</style>\n",
       "<table border=\"1\" class=\"dataframe\">\n",
       "  <thead>\n",
       "    <tr style=\"text-align: right;\">\n",
       "      <th></th>\n",
       "      <th>Person ID</th>\n",
       "      <th>Region</th>\n",
       "      <th>Residence Type</th>\n",
       "      <th>Family Composition</th>\n",
       "      <th>Population Base</th>\n",
       "      <th>Sex</th>\n",
       "      <th>Age</th>\n",
       "      <th>Marital Status</th>\n",
       "      <th>Student</th>\n",
       "      <th>Country of Birth</th>\n",
       "      <th>Health</th>\n",
       "      <th>Ethnic Group</th>\n",
       "      <th>Religion</th>\n",
       "      <th>Economic Activity</th>\n",
       "      <th>Occupation</th>\n",
       "      <th>Industry</th>\n",
       "      <th>Hours worked per week</th>\n",
       "      <th>No of hours</th>\n",
       "      <th>Approximated Social Grade</th>\n",
       "    </tr>\n",
       "  </thead>\n",
       "  <tbody>\n",
       "    <tr>\n",
       "      <th>569720</th>\n",
       "      <td>7417195</td>\n",
       "      <td>E12000003</td>\n",
       "      <td>C</td>\n",
       "      <td>-9</td>\n",
       "      <td>1</td>\n",
       "      <td>2</td>\n",
       "      <td>3</td>\n",
       "      <td>1</td>\n",
       "      <td>2</td>\n",
       "      <td>1</td>\n",
       "      <td>1</td>\n",
       "      <td>1</td>\n",
       "      <td>2</td>\n",
       "      <td>1</td>\n",
       "      <td>1</td>\n",
       "      <td>9</td>\n",
       "      <td>4</td>\n",
       "      <td>54.0</td>\n",
       "      <td>-9</td>\n",
       "    </tr>\n",
       "    <tr>\n",
       "      <th>569721</th>\n",
       "      <td>7963992</td>\n",
       "      <td>W92000004</td>\n",
       "      <td>H</td>\n",
       "      <td>2</td>\n",
       "      <td>1</td>\n",
       "      <td>1</td>\n",
       "      <td>6</td>\n",
       "      <td>2</td>\n",
       "      <td>2</td>\n",
       "      <td>1</td>\n",
       "      <td>2</td>\n",
       "      <td>1</td>\n",
       "      <td>1</td>\n",
       "      <td>2</td>\n",
       "      <td>1</td>\n",
       "      <td>5</td>\n",
       "      <td>4</td>\n",
       "      <td>51.0</td>\n",
       "      <td>2</td>\n",
       "    </tr>\n",
       "    <tr>\n",
       "      <th>569722</th>\n",
       "      <td>7964153</td>\n",
       "      <td>W92000004</td>\n",
       "      <td>H</td>\n",
       "      <td>3</td>\n",
       "      <td>1</td>\n",
       "      <td>1</td>\n",
       "      <td>6</td>\n",
       "      <td>4</td>\n",
       "      <td>2</td>\n",
       "      <td>1</td>\n",
       "      <td>2</td>\n",
       "      <td>1</td>\n",
       "      <td>9</td>\n",
       "      <td>1</td>\n",
       "      <td>3</td>\n",
       "      <td>2</td>\n",
       "      <td>4</td>\n",
       "      <td>53.0</td>\n",
       "      <td>2</td>\n",
       "    </tr>\n",
       "    <tr>\n",
       "      <th>569723</th>\n",
       "      <td>7964107</td>\n",
       "      <td>W92000004</td>\n",
       "      <td>H</td>\n",
       "      <td>5</td>\n",
       "      <td>1</td>\n",
       "      <td>2</td>\n",
       "      <td>4</td>\n",
       "      <td>4</td>\n",
       "      <td>2</td>\n",
       "      <td>1</td>\n",
       "      <td>2</td>\n",
       "      <td>1</td>\n",
       "      <td>2</td>\n",
       "      <td>1</td>\n",
       "      <td>6</td>\n",
       "      <td>12</td>\n",
       "      <td>4</td>\n",
       "      <td>57.0</td>\n",
       "      <td>3</td>\n",
       "    </tr>\n",
       "    <tr>\n",
       "      <th>569724</th>\n",
       "      <td>7964119</td>\n",
       "      <td>W92000004</td>\n",
       "      <td>H</td>\n",
       "      <td>5</td>\n",
       "      <td>1</td>\n",
       "      <td>2</td>\n",
       "      <td>4</td>\n",
       "      <td>2</td>\n",
       "      <td>2</td>\n",
       "      <td>1</td>\n",
       "      <td>2</td>\n",
       "      <td>1</td>\n",
       "      <td>1</td>\n",
       "      <td>2</td>\n",
       "      <td>1</td>\n",
       "      <td>1</td>\n",
       "      <td>4</td>\n",
       "      <td>54.0</td>\n",
       "      <td>2</td>\n",
       "    </tr>\n",
       "    <tr>\n",
       "      <th>569725</th>\n",
       "      <td>7963949</td>\n",
       "      <td>W92000004</td>\n",
       "      <td>H</td>\n",
       "      <td>2</td>\n",
       "      <td>1</td>\n",
       "      <td>1</td>\n",
       "      <td>2</td>\n",
       "      <td>1</td>\n",
       "      <td>2</td>\n",
       "      <td>1</td>\n",
       "      <td>1</td>\n",
       "      <td>1</td>\n",
       "      <td>9</td>\n",
       "      <td>1</td>\n",
       "      <td>1</td>\n",
       "      <td>3</td>\n",
       "      <td>4</td>\n",
       "      <td>58.0</td>\n",
       "      <td>2</td>\n",
       "    </tr>\n",
       "    <tr>\n",
       "      <th>569726</th>\n",
       "      <td>7963673</td>\n",
       "      <td>W92000004</td>\n",
       "      <td>H</td>\n",
       "      <td>2</td>\n",
       "      <td>1</td>\n",
       "      <td>1</td>\n",
       "      <td>4</td>\n",
       "      <td>2</td>\n",
       "      <td>2</td>\n",
       "      <td>1</td>\n",
       "      <td>2</td>\n",
       "      <td>1</td>\n",
       "      <td>1</td>\n",
       "      <td>1</td>\n",
       "      <td>9</td>\n",
       "      <td>6</td>\n",
       "      <td>4</td>\n",
       "      <td>56.0</td>\n",
       "      <td>3</td>\n",
       "    </tr>\n",
       "    <tr>\n",
       "      <th>569727</th>\n",
       "      <td>7917502</td>\n",
       "      <td>E12000007</td>\n",
       "      <td>C</td>\n",
       "      <td>-9</td>\n",
       "      <td>1</td>\n",
       "      <td>1</td>\n",
       "      <td>3</td>\n",
       "      <td>1</td>\n",
       "      <td>2</td>\n",
       "      <td>2</td>\n",
       "      <td>1</td>\n",
       "      <td>3</td>\n",
       "      <td>2</td>\n",
       "      <td>1</td>\n",
       "      <td>3</td>\n",
       "      <td>9</td>\n",
       "      <td>4</td>\n",
       "      <td>51.0</td>\n",
       "      <td>-9</td>\n",
       "    </tr>\n",
       "    <tr>\n",
       "      <th>569728</th>\n",
       "      <td>7907595</td>\n",
       "      <td>E12000007</td>\n",
       "      <td>C</td>\n",
       "      <td>-9</td>\n",
       "      <td>1</td>\n",
       "      <td>2</td>\n",
       "      <td>7</td>\n",
       "      <td>2</td>\n",
       "      <td>2</td>\n",
       "      <td>2</td>\n",
       "      <td>1</td>\n",
       "      <td>3</td>\n",
       "      <td>2</td>\n",
       "      <td>2</td>\n",
       "      <td>6</td>\n",
       "      <td>11</td>\n",
       "      <td>4</td>\n",
       "      <td>52.0</td>\n",
       "      <td>-9</td>\n",
       "    </tr>\n",
       "    <tr>\n",
       "      <th>569729</th>\n",
       "      <td>7769095</td>\n",
       "      <td>E12000002</td>\n",
       "      <td>C</td>\n",
       "      <td>-9</td>\n",
       "      <td>1</td>\n",
       "      <td>1</td>\n",
       "      <td>5</td>\n",
       "      <td>4</td>\n",
       "      <td>2</td>\n",
       "      <td>1</td>\n",
       "      <td>1</td>\n",
       "      <td>1</td>\n",
       "      <td>1</td>\n",
       "      <td>2</td>\n",
       "      <td>2</td>\n",
       "      <td>8</td>\n",
       "      <td>4</td>\n",
       "      <td>54.0</td>\n",
       "      <td>-9</td>\n",
       "    </tr>\n",
       "    <tr>\n",
       "      <th>569730</th>\n",
       "      <td>7716755</td>\n",
       "      <td>E12000005</td>\n",
       "      <td>C</td>\n",
       "      <td>-9</td>\n",
       "      <td>1</td>\n",
       "      <td>1</td>\n",
       "      <td>3</td>\n",
       "      <td>1</td>\n",
       "      <td>2</td>\n",
       "      <td>1</td>\n",
       "      <td>1</td>\n",
       "      <td>1</td>\n",
       "      <td>9</td>\n",
       "      <td>1</td>\n",
       "      <td>3</td>\n",
       "      <td>9</td>\n",
       "      <td>4</td>\n",
       "      <td>50.0</td>\n",
       "      <td>-9</td>\n",
       "    </tr>\n",
       "    <tr>\n",
       "      <th>569731</th>\n",
       "      <td>7716752</td>\n",
       "      <td>E12000005</td>\n",
       "      <td>C</td>\n",
       "      <td>-9</td>\n",
       "      <td>1</td>\n",
       "      <td>1</td>\n",
       "      <td>2</td>\n",
       "      <td>1</td>\n",
       "      <td>2</td>\n",
       "      <td>1</td>\n",
       "      <td>1</td>\n",
       "      <td>1</td>\n",
       "      <td>2</td>\n",
       "      <td>1</td>\n",
       "      <td>3</td>\n",
       "      <td>9</td>\n",
       "      <td>4</td>\n",
       "      <td>55.0</td>\n",
       "      <td>-9</td>\n",
       "    </tr>\n",
       "    <tr>\n",
       "      <th>569732</th>\n",
       "      <td>7716750</td>\n",
       "      <td>E12000005</td>\n",
       "      <td>C</td>\n",
       "      <td>-9</td>\n",
       "      <td>1</td>\n",
       "      <td>1</td>\n",
       "      <td>2</td>\n",
       "      <td>1</td>\n",
       "      <td>2</td>\n",
       "      <td>1</td>\n",
       "      <td>1</td>\n",
       "      <td>1</td>\n",
       "      <td>9</td>\n",
       "      <td>1</td>\n",
       "      <td>3</td>\n",
       "      <td>9</td>\n",
       "      <td>4</td>\n",
       "      <td>49.0</td>\n",
       "      <td>-9</td>\n",
       "    </tr>\n",
       "    <tr>\n",
       "      <th>569733</th>\n",
       "      <td>7680021</td>\n",
       "      <td>E12000008</td>\n",
       "      <td>C</td>\n",
       "      <td>-9</td>\n",
       "      <td>1</td>\n",
       "      <td>1</td>\n",
       "      <td>2</td>\n",
       "      <td>1</td>\n",
       "      <td>2</td>\n",
       "      <td>1</td>\n",
       "      <td>1</td>\n",
       "      <td>1</td>\n",
       "      <td>1</td>\n",
       "      <td>1</td>\n",
       "      <td>8</td>\n",
       "      <td>9</td>\n",
       "      <td>4</td>\n",
       "      <td>56.0</td>\n",
       "      <td>-9</td>\n",
       "    </tr>\n",
       "    <tr>\n",
       "      <th>569734</th>\n",
       "      <td>7680020</td>\n",
       "      <td>E12000008</td>\n",
       "      <td>C</td>\n",
       "      <td>-9</td>\n",
       "      <td>1</td>\n",
       "      <td>2</td>\n",
       "      <td>3</td>\n",
       "      <td>1</td>\n",
       "      <td>2</td>\n",
       "      <td>1</td>\n",
       "      <td>1</td>\n",
       "      <td>1</td>\n",
       "      <td>2</td>\n",
       "      <td>1</td>\n",
       "      <td>3</td>\n",
       "      <td>2</td>\n",
       "      <td>4</td>\n",
       "      <td>60.0</td>\n",
       "      <td>-9</td>\n",
       "    </tr>\n",
       "    <tr>\n",
       "      <th>569735</th>\n",
       "      <td>7680019</td>\n",
       "      <td>E12000008</td>\n",
       "      <td>C</td>\n",
       "      <td>-9</td>\n",
       "      <td>1</td>\n",
       "      <td>1</td>\n",
       "      <td>2</td>\n",
       "      <td>1</td>\n",
       "      <td>2</td>\n",
       "      <td>2</td>\n",
       "      <td>1</td>\n",
       "      <td>1</td>\n",
       "      <td>2</td>\n",
       "      <td>1</td>\n",
       "      <td>3</td>\n",
       "      <td>9</td>\n",
       "      <td>4</td>\n",
       "      <td>52.0</td>\n",
       "      <td>-9</td>\n",
       "    </tr>\n",
       "    <tr>\n",
       "      <th>569736</th>\n",
       "      <td>7675184</td>\n",
       "      <td>E12000008</td>\n",
       "      <td>C</td>\n",
       "      <td>-9</td>\n",
       "      <td>1</td>\n",
       "      <td>1</td>\n",
       "      <td>3</td>\n",
       "      <td>1</td>\n",
       "      <td>2</td>\n",
       "      <td>2</td>\n",
       "      <td>2</td>\n",
       "      <td>2</td>\n",
       "      <td>1</td>\n",
       "      <td>1</td>\n",
       "      <td>1</td>\n",
       "      <td>5</td>\n",
       "      <td>4</td>\n",
       "      <td>55.0</td>\n",
       "      <td>-9</td>\n",
       "    </tr>\n",
       "    <tr>\n",
       "      <th>569737</th>\n",
       "      <td>7675176</td>\n",
       "      <td>E12000008</td>\n",
       "      <td>C</td>\n",
       "      <td>-9</td>\n",
       "      <td>1</td>\n",
       "      <td>2</td>\n",
       "      <td>5</td>\n",
       "      <td>2</td>\n",
       "      <td>2</td>\n",
       "      <td>1</td>\n",
       "      <td>1</td>\n",
       "      <td>1</td>\n",
       "      <td>2</td>\n",
       "      <td>2</td>\n",
       "      <td>1</td>\n",
       "      <td>8</td>\n",
       "      <td>4</td>\n",
       "      <td>49.0</td>\n",
       "      <td>-9</td>\n",
       "    </tr>\n",
       "    <tr>\n",
       "      <th>569738</th>\n",
       "      <td>7944614</td>\n",
       "      <td>W92000004</td>\n",
       "      <td>H</td>\n",
       "      <td>2</td>\n",
       "      <td>1</td>\n",
       "      <td>1</td>\n",
       "      <td>6</td>\n",
       "      <td>2</td>\n",
       "      <td>2</td>\n",
       "      <td>1</td>\n",
       "      <td>3</td>\n",
       "      <td>1</td>\n",
       "      <td>1</td>\n",
       "      <td>1</td>\n",
       "      <td>6</td>\n",
       "      <td>10</td>\n",
       "      <td>4</td>\n",
       "      <td>53.0</td>\n",
       "      <td>3</td>\n",
       "    </tr>\n",
       "    <tr>\n",
       "      <th>569739</th>\n",
       "      <td>7945074</td>\n",
       "      <td>W92000004</td>\n",
       "      <td>H</td>\n",
       "      <td>1</td>\n",
       "      <td>1</td>\n",
       "      <td>1</td>\n",
       "      <td>5</td>\n",
       "      <td>4</td>\n",
       "      <td>2</td>\n",
       "      <td>1</td>\n",
       "      <td>2</td>\n",
       "      <td>1</td>\n",
       "      <td>1</td>\n",
       "      <td>1</td>\n",
       "      <td>5</td>\n",
       "      <td>2</td>\n",
       "      <td>4</td>\n",
       "      <td>54.0</td>\n",
       "      <td>3</td>\n",
       "    </tr>\n",
       "  </tbody>\n",
       "</table>\n",
       "</div>"
      ],
      "text/plain": [
       "        Person ID     Region Residence Type  Family Composition  \\\n",
       "569720    7417195  E12000003              C                  -9   \n",
       "569721    7963992  W92000004              H                   2   \n",
       "569722    7964153  W92000004              H                   3   \n",
       "569723    7964107  W92000004              H                   5   \n",
       "569724    7964119  W92000004              H                   5   \n",
       "569725    7963949  W92000004              H                   2   \n",
       "569726    7963673  W92000004              H                   2   \n",
       "569727    7917502  E12000007              C                  -9   \n",
       "569728    7907595  E12000007              C                  -9   \n",
       "569729    7769095  E12000002              C                  -9   \n",
       "569730    7716755  E12000005              C                  -9   \n",
       "569731    7716752  E12000005              C                  -9   \n",
       "569732    7716750  E12000005              C                  -9   \n",
       "569733    7680021  E12000008              C                  -9   \n",
       "569734    7680020  E12000008              C                  -9   \n",
       "569735    7680019  E12000008              C                  -9   \n",
       "569736    7675184  E12000008              C                  -9   \n",
       "569737    7675176  E12000008              C                  -9   \n",
       "569738    7944614  W92000004              H                   2   \n",
       "569739    7945074  W92000004              H                   1   \n",
       "\n",
       "        Population Base  Sex  Age  Marital Status  Student  Country of Birth  \\\n",
       "569720                1    2    3               1        2                 1   \n",
       "569721                1    1    6               2        2                 1   \n",
       "569722                1    1    6               4        2                 1   \n",
       "569723                1    2    4               4        2                 1   \n",
       "569724                1    2    4               2        2                 1   \n",
       "569725                1    1    2               1        2                 1   \n",
       "569726                1    1    4               2        2                 1   \n",
       "569727                1    1    3               1        2                 2   \n",
       "569728                1    2    7               2        2                 2   \n",
       "569729                1    1    5               4        2                 1   \n",
       "569730                1    1    3               1        2                 1   \n",
       "569731                1    1    2               1        2                 1   \n",
       "569732                1    1    2               1        2                 1   \n",
       "569733                1    1    2               1        2                 1   \n",
       "569734                1    2    3               1        2                 1   \n",
       "569735                1    1    2               1        2                 2   \n",
       "569736                1    1    3               1        2                 2   \n",
       "569737                1    2    5               2        2                 1   \n",
       "569738                1    1    6               2        2                 1   \n",
       "569739                1    1    5               4        2                 1   \n",
       "\n",
       "        Health  Ethnic Group  Religion  Economic Activity  Occupation  \\\n",
       "569720       1             1         2                  1           1   \n",
       "569721       2             1         1                  2           1   \n",
       "569722       2             1         9                  1           3   \n",
       "569723       2             1         2                  1           6   \n",
       "569724       2             1         1                  2           1   \n",
       "569725       1             1         9                  1           1   \n",
       "569726       2             1         1                  1           9   \n",
       "569727       1             3         2                  1           3   \n",
       "569728       1             3         2                  2           6   \n",
       "569729       1             1         1                  2           2   \n",
       "569730       1             1         9                  1           3   \n",
       "569731       1             1         2                  1           3   \n",
       "569732       1             1         9                  1           3   \n",
       "569733       1             1         1                  1           8   \n",
       "569734       1             1         2                  1           3   \n",
       "569735       1             1         2                  1           3   \n",
       "569736       2             2         1                  1           1   \n",
       "569737       1             1         2                  2           1   \n",
       "569738       3             1         1                  1           6   \n",
       "569739       2             1         1                  1           5   \n",
       "\n",
       "        Industry  Hours worked per week  No of hours  \\\n",
       "569720         9                      4         54.0   \n",
       "569721         5                      4         51.0   \n",
       "569722         2                      4         53.0   \n",
       "569723        12                      4         57.0   \n",
       "569724         1                      4         54.0   \n",
       "569725         3                      4         58.0   \n",
       "569726         6                      4         56.0   \n",
       "569727         9                      4         51.0   \n",
       "569728        11                      4         52.0   \n",
       "569729         8                      4         54.0   \n",
       "569730         9                      4         50.0   \n",
       "569731         9                      4         55.0   \n",
       "569732         9                      4         49.0   \n",
       "569733         9                      4         56.0   \n",
       "569734         2                      4         60.0   \n",
       "569735         9                      4         52.0   \n",
       "569736         5                      4         55.0   \n",
       "569737         8                      4         49.0   \n",
       "569738        10                      4         53.0   \n",
       "569739         2                      4         54.0   \n",
       "\n",
       "        Approximated Social Grade  \n",
       "569720                         -9  \n",
       "569721                          2  \n",
       "569722                          2  \n",
       "569723                          3  \n",
       "569724                          2  \n",
       "569725                          2  \n",
       "569726                          3  \n",
       "569727                         -9  \n",
       "569728                         -9  \n",
       "569729                         -9  \n",
       "569730                         -9  \n",
       "569731                         -9  \n",
       "569732                         -9  \n",
       "569733                         -9  \n",
       "569734                         -9  \n",
       "569735                         -9  \n",
       "569736                         -9  \n",
       "569737                         -9  \n",
       "569738                          3  \n",
       "569739                          3  "
      ]
     },
     "execution_count": 4,
     "metadata": {},
     "output_type": "execute_result"
    }
   ],
   "source": [
    "census.tail(20)"
   ]
  },
  {
   "cell_type": "code",
   "execution_count": 5,
   "id": "cd5f949e",
   "metadata": {},
   "outputs": [
    {
     "data": {
      "text/plain": [
       "Region\n",
       "E12000008    88084\n",
       "E12000007    83582\n",
       "E12000002    71436\n",
       "E12000006    59411\n",
       "E12000005    56875\n",
       "E12000009    53774\n",
       "E12000003    53471\n",
       "E12000004    45782\n",
       "W92000004    30976\n",
       "E12000001    26349\n",
       "Name: count, dtype: int64"
      ]
     },
     "execution_count": 5,
     "metadata": {},
     "output_type": "execute_result"
    }
   ],
   "source": [
    "census['Region'].value_counts()"
   ]
  },
  {
   "cell_type": "code",
   "execution_count": 6,
   "id": "805f2d5c",
   "metadata": {},
   "outputs": [
    {
     "data": {
      "text/plain": [
       "count        569740\n",
       "unique           10\n",
       "top       E12000008\n",
       "freq          88084\n",
       "Name: Region, dtype: object"
      ]
     },
     "execution_count": 6,
     "metadata": {},
     "output_type": "execute_result"
    }
   ],
   "source": [
    "census['Region'].describe()"
   ]
  },
  {
   "cell_type": "code",
   "execution_count": 7,
   "id": "939a74d8",
   "metadata": {},
   "outputs": [],
   "source": [
    "region_names = {\n",
    "    'E12000001': 'North East',\n",
    "    'E12000002': 'North West',\n",
    "    'E12000003': 'Yorkshire and the Humber',\n",
    "    'E12000004': 'East Midlands',\n",
    "    'E12000005': 'West Midlands',\n",
    "    'E12000006': 'East of England',\n",
    "    'E12000007': 'London',\n",
    "    'E12000008': 'South East',\n",
    "    'E12000009': 'South West',\n",
    "    'W92000004': 'Wales'    \n",
    "    \n",
    "}\n",
    "\n",
    "census['Region'] = census['Region'].replace(region_names)"
   ]
  },
  {
   "cell_type": "code",
   "execution_count": 15,
   "id": "ed081fed",
   "metadata": {},
   "outputs": [
    {
     "data": {
      "text/plain": [
       "Region\n",
       "South East                  88084\n",
       "London                      83582\n",
       "North West                  71436\n",
       "East of England             59411\n",
       "West Midlands               56875\n",
       "South West                  53774\n",
       "Yorkshire and the Humber    53471\n",
       "East Midlands               45782\n",
       "Wales                       30976\n",
       "North East                  26349\n",
       "Name: count, dtype: int64"
      ]
     },
     "execution_count": 15,
     "metadata": {},
     "output_type": "execute_result"
    }
   ],
   "source": [
    "census['Region'].value_counts()"
   ]
  },
  {
   "cell_type": "code",
   "execution_count": 16,
   "id": "d95c0468",
   "metadata": {},
   "outputs": [
    {
     "data": {
      "text/plain": [
       "count         569740\n",
       "unique            10\n",
       "top       South East\n",
       "freq           88084\n",
       "Name: Region, dtype: object"
      ]
     },
     "execution_count": 16,
     "metadata": {},
     "output_type": "execute_result"
    }
   ],
   "source": [
    "census['Region'].describe()"
   ]
  },
  {
   "cell_type": "code",
   "execution_count": 8,
   "id": "5ac6a742",
   "metadata": {},
   "outputs": [
    {
     "data": {
      "text/html": [
       "<div>\n",
       "<style scoped>\n",
       "    .dataframe tbody tr th:only-of-type {\n",
       "        vertical-align: middle;\n",
       "    }\n",
       "\n",
       "    .dataframe tbody tr th {\n",
       "        vertical-align: top;\n",
       "    }\n",
       "\n",
       "    .dataframe thead th {\n",
       "        text-align: right;\n",
       "    }\n",
       "</style>\n",
       "<table border=\"1\" class=\"dataframe\">\n",
       "  <thead>\n",
       "    <tr style=\"text-align: right;\">\n",
       "      <th></th>\n",
       "      <th>Person ID</th>\n",
       "      <th>Region</th>\n",
       "      <th>Residence Type</th>\n",
       "      <th>Family Composition</th>\n",
       "      <th>Population Base</th>\n",
       "      <th>Sex</th>\n",
       "      <th>Age</th>\n",
       "      <th>Marital Status</th>\n",
       "      <th>Student</th>\n",
       "      <th>Country of Birth</th>\n",
       "      <th>Health</th>\n",
       "      <th>Ethnic Group</th>\n",
       "      <th>Religion</th>\n",
       "      <th>Economic Activity</th>\n",
       "      <th>Occupation</th>\n",
       "      <th>Industry</th>\n",
       "      <th>Hours worked per week</th>\n",
       "      <th>No of hours</th>\n",
       "      <th>Approximated Social Grade</th>\n",
       "    </tr>\n",
       "  </thead>\n",
       "  <tbody>\n",
       "    <tr>\n",
       "      <th>0</th>\n",
       "      <td>7394816</td>\n",
       "      <td>North East</td>\n",
       "      <td>H</td>\n",
       "      <td>2</td>\n",
       "      <td>1</td>\n",
       "      <td>2</td>\n",
       "      <td>6</td>\n",
       "      <td>2</td>\n",
       "      <td>2</td>\n",
       "      <td>1</td>\n",
       "      <td>2</td>\n",
       "      <td>1</td>\n",
       "      <td>2</td>\n",
       "      <td>5</td>\n",
       "      <td>8</td>\n",
       "      <td>2</td>\n",
       "      <td>-9</td>\n",
       "      <td>NaN</td>\n",
       "      <td>4</td>\n",
       "    </tr>\n",
       "    <tr>\n",
       "      <th>1</th>\n",
       "      <td>7394832</td>\n",
       "      <td>North East</td>\n",
       "      <td>H</td>\n",
       "      <td>3</td>\n",
       "      <td>1</td>\n",
       "      <td>2</td>\n",
       "      <td>1</td>\n",
       "      <td>1</td>\n",
       "      <td>2</td>\n",
       "      <td>1</td>\n",
       "      <td>2</td>\n",
       "      <td>1</td>\n",
       "      <td>1</td>\n",
       "      <td>-9</td>\n",
       "      <td>-9</td>\n",
       "      <td>-9</td>\n",
       "      <td>-9</td>\n",
       "      <td>NaN</td>\n",
       "      <td>-9</td>\n",
       "    </tr>\n",
       "    <tr>\n",
       "      <th>2</th>\n",
       "      <td>7394719</td>\n",
       "      <td>North East</td>\n",
       "      <td>H</td>\n",
       "      <td>2</td>\n",
       "      <td>1</td>\n",
       "      <td>1</td>\n",
       "      <td>7</td>\n",
       "      <td>2</td>\n",
       "      <td>2</td>\n",
       "      <td>1</td>\n",
       "      <td>1</td>\n",
       "      <td>1</td>\n",
       "      <td>2</td>\n",
       "      <td>5</td>\n",
       "      <td>8</td>\n",
       "      <td>2</td>\n",
       "      <td>-9</td>\n",
       "      <td>NaN</td>\n",
       "      <td>2</td>\n",
       "    </tr>\n",
       "    <tr>\n",
       "      <th>3</th>\n",
       "      <td>7394840</td>\n",
       "      <td>North East</td>\n",
       "      <td>H</td>\n",
       "      <td>1</td>\n",
       "      <td>1</td>\n",
       "      <td>2</td>\n",
       "      <td>6</td>\n",
       "      <td>4</td>\n",
       "      <td>2</td>\n",
       "      <td>1</td>\n",
       "      <td>3</td>\n",
       "      <td>1</td>\n",
       "      <td>2</td>\n",
       "      <td>5</td>\n",
       "      <td>9</td>\n",
       "      <td>5</td>\n",
       "      <td>-9</td>\n",
       "      <td>NaN</td>\n",
       "      <td>4</td>\n",
       "    </tr>\n",
       "    <tr>\n",
       "      <th>4</th>\n",
       "      <td>7394711</td>\n",
       "      <td>North East</td>\n",
       "      <td>H</td>\n",
       "      <td>2</td>\n",
       "      <td>1</td>\n",
       "      <td>1</td>\n",
       "      <td>1</td>\n",
       "      <td>1</td>\n",
       "      <td>1</td>\n",
       "      <td>1</td>\n",
       "      <td>1</td>\n",
       "      <td>1</td>\n",
       "      <td>1</td>\n",
       "      <td>-9</td>\n",
       "      <td>-9</td>\n",
       "      <td>-9</td>\n",
       "      <td>-9</td>\n",
       "      <td>NaN</td>\n",
       "      <td>-9</td>\n",
       "    </tr>\n",
       "  </tbody>\n",
       "</table>\n",
       "</div>"
      ],
      "text/plain": [
       "   Person ID      Region Residence Type  Family Composition  Population Base  \\\n",
       "0    7394816  North East              H                   2                1   \n",
       "1    7394832  North East              H                   3                1   \n",
       "2    7394719  North East              H                   2                1   \n",
       "3    7394840  North East              H                   1                1   \n",
       "4    7394711  North East              H                   2                1   \n",
       "\n",
       "   Sex  Age  Marital Status  Student  Country of Birth  Health  Ethnic Group  \\\n",
       "0    2    6               2        2                 1       2             1   \n",
       "1    2    1               1        2                 1       2             1   \n",
       "2    1    7               2        2                 1       1             1   \n",
       "3    2    6               4        2                 1       3             1   \n",
       "4    1    1               1        1                 1       1             1   \n",
       "\n",
       "   Religion  Economic Activity  Occupation  Industry  Hours worked per week  \\\n",
       "0         2                  5           8         2                     -9   \n",
       "1         1                 -9          -9        -9                     -9   \n",
       "2         2                  5           8         2                     -9   \n",
       "3         2                  5           9         5                     -9   \n",
       "4         1                 -9          -9        -9                     -9   \n",
       "\n",
       "   No of hours  Approximated Social Grade  \n",
       "0          NaN                          4  \n",
       "1          NaN                         -9  \n",
       "2          NaN                          2  \n",
       "3          NaN                          4  \n",
       "4          NaN                         -9  "
      ]
     },
     "execution_count": 8,
     "metadata": {},
     "output_type": "execute_result"
    }
   ],
   "source": [
    "census.head()"
   ]
  },
  {
   "cell_type": "code",
   "execution_count": 9,
   "id": "cf79307d",
   "metadata": {},
   "outputs": [],
   "source": [
    "Residence_type = {\n",
    "    'C': 'Resident in a communal establishment',\n",
    "    'H': 'Not resident in a communal establishment'  \n",
    "    \n",
    "}\n",
    "\n",
    "census['Residence Type'] = census['Residence Type'].replace(Residence_type)"
   ]
  },
  {
   "cell_type": "code",
   "execution_count": 13,
   "id": "4ab08944",
   "metadata": {},
   "outputs": [
    {
     "data": {
      "text/plain": [
       "Residence Type\n",
       "Not resident in a communal establishment    559086\n",
       "Resident in a communal establishment         10654\n",
       "Name: count, dtype: int64"
      ]
     },
     "execution_count": 13,
     "metadata": {},
     "output_type": "execute_result"
    }
   ],
   "source": [
    "census['Residence Type'].value_counts()"
   ]
  },
  {
   "cell_type": "code",
   "execution_count": 14,
   "id": "7292e696",
   "metadata": {},
   "outputs": [
    {
     "data": {
      "text/plain": [
       "count                                       569740\n",
       "unique                                           2\n",
       "top       Not resident in a communal establishment\n",
       "freq                                        559086\n",
       "Name: Residence Type, dtype: object"
      ]
     },
     "execution_count": 14,
     "metadata": {},
     "output_type": "execute_result"
    }
   ],
   "source": [
    "census['Residence Type'].describe()"
   ]
  },
  {
   "cell_type": "code",
   "execution_count": 10,
   "id": "ba732cd6",
   "metadata": {},
   "outputs": [],
   "source": [
    "Family_composition = {\n",
    "    \n",
    "    1 : 'Not in a family',\n",
    "    2 : 'Married/same-sex civil partnership couple family',\n",
    "    3 : 'Cohabiting couple family',\n",
    "    4 : 'Lone parent family (male head)',\n",
    "    5 : 'Lone parent family (female head)',\n",
    "    6 : 'Other related family',\n",
    "    -9 : 'No code required -Resident of a communal establishment, students or schoolchildren living away during term-time, or a short-term resident'            \n",
    "}\n",
    "\n",
    "census['Family Composition'] = census['Family Composition'].replace(Family_composition)"
   ]
  },
  {
   "cell_type": "code",
   "execution_count": 17,
   "id": "91f7cbf5",
   "metadata": {},
   "outputs": [
    {
     "data": {
      "text/plain": [
       "Family Composition\n",
       "Married/same-sex civil partnership couple family                                                                                             300961\n",
       "Not in a family                                                                                                                               96690\n",
       "Cohabiting couple family                                                                                                                      72641\n",
       "Lone parent family (female head)                                                                                                              64519\n",
       "No code required -Resident of a communal establishment, students or schoolchildren living away during term-time, or a short-term resident     18851\n",
       "Lone parent family (male head)                                                                                                                 9848\n",
       "Other related family                                                                                                                           6230\n",
       "Name: count, dtype: int64"
      ]
     },
     "execution_count": 17,
     "metadata": {},
     "output_type": "execute_result"
    }
   ],
   "source": [
    "census['Family Composition'].value_counts()"
   ]
  },
  {
   "cell_type": "code",
   "execution_count": 18,
   "id": "42b3345f",
   "metadata": {},
   "outputs": [
    {
     "data": {
      "text/plain": [
       "count                                               569740\n",
       "unique                                                   7\n",
       "top       Married/same-sex civil partnership couple family\n",
       "freq                                                300961\n",
       "Name: Family Composition, dtype: object"
      ]
     },
     "execution_count": 18,
     "metadata": {},
     "output_type": "execute_result"
    }
   ],
   "source": [
    "census['Family Composition'].describe()"
   ]
  },
  {
   "cell_type": "code",
   "execution_count": 12,
   "id": "e38541f4",
   "metadata": {},
   "outputs": [],
   "source": [
    "population_base = {\n",
    "    1 : 'Usual resident',\n",
    "    2 : 'Student living away from home during term-time',\n",
    "    3 : 'Short-term resident'\n",
    "}\n",
    "\n",
    "census['Population Base'] = census['Population Base'].replace(population_base)"
   ]
  },
  {
   "cell_type": "code",
   "execution_count": 19,
   "id": "86844a0c",
   "metadata": {},
   "outputs": [
    {
     "data": {
      "text/plain": [
       "Population Base\n",
       "Usual resident                                    561039\n",
       "Student living away from home during term-time      6730\n",
       "Short-term resident                                 1971\n",
       "Name: count, dtype: int64"
      ]
     },
     "execution_count": 19,
     "metadata": {},
     "output_type": "execute_result"
    }
   ],
   "source": [
    "census['Population Base'].value_counts()"
   ]
  },
  {
   "cell_type": "code",
   "execution_count": 20,
   "id": "dec92843",
   "metadata": {},
   "outputs": [
    {
     "data": {
      "text/plain": [
       "count             569740\n",
       "unique                 3\n",
       "top       Usual resident\n",
       "freq              561039\n",
       "Name: Population Base, dtype: object"
      ]
     },
     "execution_count": 20,
     "metadata": {},
     "output_type": "execute_result"
    }
   ],
   "source": [
    "census['Population Base'].describe()"
   ]
  },
  {
   "cell_type": "code",
   "execution_count": 24,
   "id": "c2b96949",
   "metadata": {},
   "outputs": [],
   "source": [
    "Sex = {\n",
    "    1 : 'Male',\n",
    "    2 : 'Female'  \n",
    "}\n",
    "\n",
    "census['Sex'] = census['Sex'].replace(Sex)"
   ]
  },
  {
   "cell_type": "code",
   "execution_count": 25,
   "id": "4759a6e8",
   "metadata": {},
   "outputs": [
    {
     "data": {
      "text/plain": [
       "Sex\n",
       "Female    289172\n",
       "Male      280568\n",
       "Name: count, dtype: int64"
      ]
     },
     "execution_count": 25,
     "metadata": {},
     "output_type": "execute_result"
    }
   ],
   "source": [
    "census['Sex'].value_counts()"
   ]
  },
  {
   "cell_type": "code",
   "execution_count": 26,
   "id": "7723dc81",
   "metadata": {},
   "outputs": [
    {
     "data": {
      "text/plain": [
       "count     569740\n",
       "unique         2\n",
       "top       Female\n",
       "freq      289172\n",
       "Name: Sex, dtype: object"
      ]
     },
     "execution_count": 26,
     "metadata": {},
     "output_type": "execute_result"
    }
   ],
   "source": [
    "census['Sex'].describe()"
   ]
  },
  {
   "cell_type": "code",
   "execution_count": 27,
   "id": "f5166ea0",
   "metadata": {},
   "outputs": [],
   "source": [
    "Age = {\n",
    "    1 : '0 to 15',\n",
    "    2 : '16 to 24',\n",
    "    3 : '25 to 34',\n",
    "    4 : '35 to 44',\n",
    "    5 : '45 to 54', \n",
    "    6 : '55 to 64', \n",
    "    7 : '65 to 74',\n",
    "    8 : '75 and over'\n",
    "    \n",
    "}\n",
    "\n",
    "census['Age'] = census['Age'].replace(Age)"
   ]
  },
  {
   "cell_type": "code",
   "execution_count": 28,
   "id": "5c3ab579",
   "metadata": {},
   "outputs": [
    {
     "data": {
      "text/plain": [
       "Age\n",
       "0 to 15        106832\n",
       "35 to 44        78641\n",
       "45 to 54        77388\n",
       "25 to 34        75948\n",
       "16 to 24        72785\n",
       "55 to 64        65665\n",
       "65 to 74        48777\n",
       "75 and over     43704\n",
       "Name: count, dtype: int64"
      ]
     },
     "execution_count": 28,
     "metadata": {},
     "output_type": "execute_result"
    }
   ],
   "source": [
    "census['Age'].value_counts()"
   ]
  },
  {
   "cell_type": "code",
   "execution_count": 29,
   "id": "7765fdac",
   "metadata": {},
   "outputs": [
    {
     "data": {
      "text/plain": [
       "count      569740\n",
       "unique          8\n",
       "top       0 to 15\n",
       "freq       106832\n",
       "Name: Age, dtype: object"
      ]
     },
     "execution_count": 29,
     "metadata": {},
     "output_type": "execute_result"
    }
   ],
   "source": [
    "census['Age'].describe()"
   ]
  },
  {
   "cell_type": "code",
   "execution_count": 30,
   "id": "ced8badf",
   "metadata": {},
   "outputs": [],
   "source": [
    "Marital_status = {\n",
    "    1 : 'Single - never married or never registered a same-sex civil partnership',\n",
    "    2 : 'Married or in a registered same-sex civil partnership',\n",
    "    3 : 'Separated but still legally married or separated but still legally in a same-sex civil partnership',\n",
    "    4 : 'Divorced or formerly in a same-sex civil partnership which is now legally dissolved',\n",
    "    5 : 'Widowed or surviving partner from a same-sex civil partnership'\n",
    "    \n",
    "}  \n",
    "\n",
    "census['Marital Status'] = census['Marital Status'].replace(Marital_status)"
   ]
  },
  {
   "cell_type": "code",
   "execution_count": 31,
   "id": "c5231bbf",
   "metadata": {},
   "outputs": [
    {
     "data": {
      "text/plain": [
       "Marital Status\n",
       "Single - never married or never registered a same-sex civil partnership                               270999\n",
       "Married or in a registered same-sex civil partnership                                                 214179\n",
       "Divorced or formerly in a same-sex civil partnership which is now legally dissolved                    40713\n",
       "Widowed or surviving partner from a same-sex civil partnership                                         31898\n",
       "Separated but still legally married or separated but still legally in a same-sex civil partnership     11951\n",
       "Name: count, dtype: int64"
      ]
     },
     "execution_count": 31,
     "metadata": {},
     "output_type": "execute_result"
    }
   ],
   "source": [
    "census['Marital Status'].value_counts()"
   ]
  },
  {
   "cell_type": "code",
   "execution_count": 32,
   "id": "92626592",
   "metadata": {},
   "outputs": [
    {
     "data": {
      "text/plain": [
       "count                                                569740\n",
       "unique                                                    5\n",
       "top       Single - never married or never registered a s...\n",
       "freq                                                 270999\n",
       "Name: Marital Status, dtype: object"
      ]
     },
     "execution_count": 32,
     "metadata": {},
     "output_type": "execute_result"
    }
   ],
   "source": [
    "census['Marital Status'].describe()"
   ]
  },
  {
   "cell_type": "code",
   "execution_count": 33,
   "id": "2949ddf2",
   "metadata": {},
   "outputs": [],
   "source": [
    "Student = {\n",
    "    1 : 'Yes',\n",
    "    2 : 'No'\n",
    "}\n",
    "\n",
    "census['Student'] = census['Student'].replace(Student)"
   ]
  },
  {
   "cell_type": "code",
   "execution_count": 34,
   "id": "1d955c72",
   "metadata": {},
   "outputs": [
    {
     "data": {
      "text/plain": [
       "Student\n",
       "No     443203\n",
       "Yes    126537\n",
       "Name: count, dtype: int64"
      ]
     },
     "execution_count": 34,
     "metadata": {},
     "output_type": "execute_result"
    }
   ],
   "source": [
    "census['Student'].value_counts()"
   ]
  },
  {
   "cell_type": "code",
   "execution_count": 35,
   "id": "ea87b749",
   "metadata": {},
   "outputs": [
    {
     "data": {
      "text/plain": [
       "count     569740\n",
       "unique         2\n",
       "top           No\n",
       "freq      443203\n",
       "Name: Student, dtype: object"
      ]
     },
     "execution_count": 35,
     "metadata": {},
     "output_type": "execute_result"
    }
   ],
   "source": [
    "census['Student'].describe()"
   ]
  },
  {
   "cell_type": "code",
   "execution_count": 36,
   "id": "2f7393a4",
   "metadata": {},
   "outputs": [],
   "source": [
    "Country_of_birth = {\n",
    "    1 : 'UK',\n",
    "    2 : 'Non UK',\n",
    "    -9 : 'No Code required - Students or schoolchildren living away during term-time'\n",
    "    \n",
    "}\n",
    "\n",
    "census['Country of Birth'] = census['Country of Birth'].replace(Country_of_birth)"
   ]
  },
  {
   "cell_type": "code",
   "execution_count": 37,
   "id": "2e9c6fec",
   "metadata": {},
   "outputs": [
    {
     "data": {
      "text/plain": [
       "Country of Birth\n",
       "UK                                                                            485645\n",
       "Non UK                                                                         77291\n",
       "No Code required - Students or schoolchildren living away during term-time      6804\n",
       "Name: count, dtype: int64"
      ]
     },
     "execution_count": 37,
     "metadata": {},
     "output_type": "execute_result"
    }
   ],
   "source": [
    "census['Country of Birth'].value_counts()"
   ]
  },
  {
   "cell_type": "code",
   "execution_count": 38,
   "id": "58f268b1",
   "metadata": {},
   "outputs": [
    {
     "data": {
      "text/plain": [
       "count     569740\n",
       "unique         3\n",
       "top           UK\n",
       "freq      485645\n",
       "Name: Country of Birth, dtype: object"
      ]
     },
     "execution_count": 38,
     "metadata": {},
     "output_type": "execute_result"
    }
   ],
   "source": [
    "census['Country of Birth'].describe()"
   ]
  },
  {
   "cell_type": "code",
   "execution_count": 39,
   "id": "b0d46a9d",
   "metadata": {},
   "outputs": [],
   "source": [
    "Health = {\n",
    "    \n",
    "    1 : 'Very good health',\n",
    "    2 : 'Good health',\n",
    "    3 : 'Fair health',\n",
    "    4 : 'Bad health',\n",
    "    5 : 'Very bad health',\n",
    "    -9 : 'No code required - Students or schoolchildren living away during term-time'\n",
    "    \n",
    "}\n",
    "\n",
    "census['Health'] = census['Health'].replace(Health)"
   ]
  },
  {
   "cell_type": "code",
   "execution_count": 40,
   "id": "06132a9d",
   "metadata": {},
   "outputs": [
    {
     "data": {
      "text/plain": [
       "Health\n",
       "Very good health                                                              264971\n",
       "Good health                                                                   191743\n",
       "Fair health                                                                    74480\n",
       "Bad health                                                                     24558\n",
       "Very bad health                                                                 7184\n",
       "No code required - Students or schoolchildren living away during term-time      6804\n",
       "Name: count, dtype: int64"
      ]
     },
     "execution_count": 40,
     "metadata": {},
     "output_type": "execute_result"
    }
   ],
   "source": [
    "census['Health'].value_counts()"
   ]
  },
  {
   "cell_type": "code",
   "execution_count": 41,
   "id": "474b1f24",
   "metadata": {},
   "outputs": [
    {
     "data": {
      "text/plain": [
       "count               569740\n",
       "unique                   6\n",
       "top       Very good health\n",
       "freq                264971\n",
       "Name: Health, dtype: object"
      ]
     },
     "execution_count": 41,
     "metadata": {},
     "output_type": "execute_result"
    }
   ],
   "source": [
    "census['Health'].describe()"
   ]
  },
  {
   "cell_type": "code",
   "execution_count": 42,
   "id": "abbd1b43",
   "metadata": {},
   "outputs": [],
   "source": [
    "Ethnic_group  = {\n",
    "    \n",
    "    1 : 'White',\n",
    "    2 : 'Mixed',\n",
    "    3 : 'Asian and Asian British',\n",
    "    4 : 'Black or Black British',\n",
    "    5 : 'Chinese or Other ethnic group',\n",
    "    -9 : 'No code required - Not resident in England or Wales, students or schoolchildren living away during term-time'\n",
    "    \n",
    "}\n",
    "\n",
    "census['Ethnic Group'] = census['Ethnic Group'].replace(Ethnic_group)"
   ]
  },
  {
   "cell_type": "code",
   "execution_count": 43,
   "id": "4f95abea",
   "metadata": {},
   "outputs": [
    {
     "data": {
      "text/plain": [
       "Ethnic Group\n",
       "White                                                                                                           483477\n",
       "Asian and Asian British                                                                                          42711\n",
       "Black or Black British                                                                                           18786\n",
       "Mixed                                                                                                            12209\n",
       "No code required - Not resident in England or Wales, students or schoolchildren living away during term-time      6804\n",
       "Chinese or Other ethnic group                                                                                     5753\n",
       "Name: count, dtype: int64"
      ]
     },
     "execution_count": 43,
     "metadata": {},
     "output_type": "execute_result"
    }
   ],
   "source": [
    "census['Ethnic Group'].value_counts()"
   ]
  },
  {
   "cell_type": "code",
   "execution_count": 44,
   "id": "31515c7e",
   "metadata": {},
   "outputs": [
    {
     "data": {
      "text/plain": [
       "count     569740\n",
       "unique         6\n",
       "top        White\n",
       "freq      483477\n",
       "Name: Ethnic Group, dtype: object"
      ]
     },
     "execution_count": 44,
     "metadata": {},
     "output_type": "execute_result"
    }
   ],
   "source": [
    "census['Ethnic Group'].describe()"
   ]
  },
  {
   "cell_type": "code",
   "execution_count": 45,
   "id": "3fdf9051",
   "metadata": {},
   "outputs": [],
   "source": [
    "Religion  = {\n",
    "    \n",
    "    1 : 'No religion',\n",
    "    2 : 'Christian',\n",
    "    3 : 'Buddhist',\n",
    "    4 : 'Hindu',\n",
    "    5 : 'Jewish',\n",
    "    6 : 'Muslim',\n",
    "    7 : 'Sikh',\n",
    "    8 : 'Other religion',\n",
    "    9 : 'Not stated',\n",
    "    -9 : 'No code required - Not resident in England or Wales, students or schoolchildren living away during term-time'\n",
    "    \n",
    "}\n",
    "\n",
    "census['Religion'] = census['Religion'].replace(Religion)"
   ]
  },
  {
   "cell_type": "code",
   "execution_count": 46,
   "id": "21b8b378",
   "metadata": {},
   "outputs": [
    {
     "data": {
      "text/plain": [
       "Religion\n",
       "Christian                                                                                                       333481\n",
       "No religion                                                                                                     141658\n",
       "Not stated                                                                                                       40613\n",
       "Muslim                                                                                                           27240\n",
       "Hindu                                                                                                             8213\n",
       "No code required - Not resident in England or Wales, students or schoolchildren living away during term-time      6804\n",
       "Sikh                                                                                                              4215\n",
       "Jewish                                                                                                            2572\n",
       "Buddhist                                                                                                          2538\n",
       "Other religion                                                                                                    2406\n",
       "Name: count, dtype: int64"
      ]
     },
     "execution_count": 46,
     "metadata": {},
     "output_type": "execute_result"
    }
   ],
   "source": [
    "census['Religion'].value_counts()"
   ]
  },
  {
   "cell_type": "code",
   "execution_count": 47,
   "id": "3fdc3ef2",
   "metadata": {},
   "outputs": [
    {
     "data": {
      "text/plain": [
       "count        569740\n",
       "unique           10\n",
       "top       Christian\n",
       "freq         333481\n",
       "Name: Religion, dtype: object"
      ]
     },
     "execution_count": 47,
     "metadata": {},
     "output_type": "execute_result"
    }
   ],
   "source": [
    "census['Religion'].describe()"
   ]
  },
  {
   "cell_type": "code",
   "execution_count": 48,
   "id": "9a4c8da1",
   "metadata": {},
   "outputs": [],
   "source": [
    "Economic_activity  = {\n",
    "    \n",
    "    1 : 'Economically active: Employee',\n",
    "    2 : 'Economically active: Self-employed',\n",
    "    3 : 'Economically active: Unemployed',\n",
    "    4 : 'Economically active: Full-time student',\n",
    "    5 : 'Economically inactive: Retired',\n",
    "    6 : 'Economically inactive: Student',\n",
    "    7 : 'Economically inactive: Looking after home or family',\n",
    "    8 : 'Economically inactive: Long-term sick or disabled',\n",
    "    9 : 'Economically inactive: Other',\n",
    "    -9 : 'No code required- Aged under 16 or students or schoolchildren living away during term-time'\n",
    "    \n",
    "}\n",
    "\n",
    "census['Economic Activity'] = census['Economic Activity'].replace(Economic_activity)"
   ]
  },
  {
   "cell_type": "code",
   "execution_count": 49,
   "id": "7de39536",
   "metadata": {},
   "outputs": [
    {
     "data": {
      "text/plain": [
       "Economic Activity\n",
       "Economically active: Employee                                                                 216024\n",
       "No code required- Aged under 16 or students or schoolchildren living away during term-time    112618\n",
       "Economically inactive: Retired                                                                 97480\n",
       "Economically active: Self-employed                                                             40632\n",
       "Economically inactive: Student                                                                 24756\n",
       "Economically active: Unemployed                                                                18109\n",
       "Economically inactive: Long-term sick or disabled                                              17991\n",
       "Economically inactive: Looking after home or family                                            17945\n",
       "Economically active: Full-time student                                                         14117\n",
       "Economically inactive: Other                                                                   10068\n",
       "Name: count, dtype: int64"
      ]
     },
     "execution_count": 49,
     "metadata": {},
     "output_type": "execute_result"
    }
   ],
   "source": [
    "census['Economic Activity'].value_counts()"
   ]
  },
  {
   "cell_type": "code",
   "execution_count": 50,
   "id": "2ecabf16",
   "metadata": {},
   "outputs": [
    {
     "data": {
      "text/plain": [
       "count                            569740\n",
       "unique                               10\n",
       "top       Economically active: Employee\n",
       "freq                             216024\n",
       "Name: Economic Activity, dtype: object"
      ]
     },
     "execution_count": 50,
     "metadata": {},
     "output_type": "execute_result"
    }
   ],
   "source": [
    "census['Economic Activity'].describe()"
   ]
  },
  {
   "cell_type": "code",
   "execution_count": 51,
   "id": "6b32b60b",
   "metadata": {},
   "outputs": [],
   "source": [
    "Occupation  = {\n",
    "    \n",
    "    1 : 'Managers, Directors and Senior Officials',\n",
    "    2 : 'Professional Occupations',\n",
    "    3 : 'Associate Professional and Technical Occupations',\n",
    "    4 : 'Administrative and Secretarial Occupations',\n",
    "    5 : 'Skilled Trades Occupations',\n",
    "    6 : 'Caring, Leisure and Other Service Occupations',\n",
    "    7 : 'Sales and Customer Service Occupations',\n",
    "    8 : 'Process, Plant and Machine Operatives',\n",
    "    9 : 'Elementary Occupations',\n",
    "    -9 : 'No code required - People aged under 16, people who have never worked and students or schoolchildren living away during term-time'\n",
    "    \n",
    "}\n",
    "\n",
    "census['Occupation'] = census['Occupation'].replace(Occupation)"
   ]
  },
  {
   "cell_type": "code",
   "execution_count": 52,
   "id": "616335df",
   "metadata": {},
   "outputs": [
    {
     "data": {
      "text/plain": [
       "Occupation\n",
       "No code required - People aged under 16, people who have never worked and students or schoolchildren living away during term-time    149984\n",
       "Professional Occupations                                                                                                              64111\n",
       "Elementary Occupations                                                                                                                58483\n",
       "Administrative and Secretarial Occupations                                                                                            53254\n",
       "Skilled Trades Occupations                                                                                                            48546\n",
       "Associate Professional and Technical Occupations                                                                                      44937\n",
       "Managers, Directors and Senior Officials                                                                                              39788\n",
       "Sales and Customer Service Occupations                                                                                                38523\n",
       "Caring, Leisure and Other Service Occupations                                                                                         37297\n",
       "Process, Plant and Machine Operatives                                                                                                 34817\n",
       "Name: count, dtype: int64"
      ]
     },
     "execution_count": 52,
     "metadata": {},
     "output_type": "execute_result"
    }
   ],
   "source": [
    "census['Occupation'].value_counts()"
   ]
  },
  {
   "cell_type": "code",
   "execution_count": 53,
   "id": "903fbdd3",
   "metadata": {},
   "outputs": [
    {
     "data": {
      "text/plain": [
       "count                                                569740\n",
       "unique                                                   10\n",
       "top       No code required - People aged under 16, peopl...\n",
       "freq                                                 149984\n",
       "Name: Occupation, dtype: object"
      ]
     },
     "execution_count": 53,
     "metadata": {},
     "output_type": "execute_result"
    }
   ],
   "source": [
    "census['Occupation'].describe()"
   ]
  },
  {
   "cell_type": "code",
   "execution_count": 55,
   "id": "478857b7",
   "metadata": {},
   "outputs": [],
   "source": [
    "Industry  = {\n",
    "    \n",
    "    1 : 'Agriculture, forestry and fishing',\n",
    "    2 : 'Mining and quarrying; Manufacturing; Electricity, gas, steam and air conditioning system; Water supply',\n",
    "    3 : 'Construction',\n",
    "    4 : 'Wholesale and retail trade; Repair of motor vehicles and motorcycles',\n",
    "    5 : 'Accommodation and food service activities',\n",
    "    6 : 'Transport and storage; Information and communication',\n",
    "    7 : 'Financial and insurance activities; Intermediation',\n",
    "    8 : 'Real estate activities; Professional, scientific and technical activities; Administrative and support service activities',\n",
    "    9 : 'Public administration and defence; compulsory social security',\n",
    "    10 : 'Education',\n",
    "    11 : 'Human health and social work activities',\n",
    "    12 : 'Other community, social and personal service activities; Private households employing domestic staff; Extra-territorial organisations and bodies', \n",
    "    -9 : 'No code required - People aged under 16, people who have never worked, and students or schoolchildren living away during term-time'\n",
    "    \n",
    "}\n",
    "\n",
    "census['Industry'] = census['Industry'].replace(Industry)"
   ]
  },
  {
   "cell_type": "code",
   "execution_count": 56,
   "id": "4f64a7c7",
   "metadata": {},
   "outputs": [
    {
     "data": {
      "text/plain": [
       "Industry\n",
       "No code required - People aged under 16, people who have never worked, and students or schoolchildren living away during term-time                  149984\n",
       "Wholesale and retail trade; Repair of motor vehicles and motorcycles                                                                                 68878\n",
       "Mining and quarrying; Manufacturing; Electricity, gas, steam and air conditioning system; Water supply                                               53433\n",
       "Real estate activities; Professional, scientific and technical activities; Administrative and support service activities                             49960\n",
       "Human health and social work activities                                                                                                              49345\n",
       "Education                                                                                                                                            40560\n",
       "Transport and storage; Information and communication                                                                                                 35240\n",
       "Construction                                                                                                                                         30707\n",
       "Accommodation and food service activities                                                                                                            25736\n",
       "Public administration and defence; compulsory social security                                                                                        24908\n",
       "Other community, social and personal service activities; Private households employing domestic staff; Extra-territorial organisations and bodies     20256\n",
       "Financial and insurance activities; Intermediation                                                                                                   16776\n",
       "Agriculture, forestry and fishing                                                                                                                     3957\n",
       "Name: count, dtype: int64"
      ]
     },
     "execution_count": 56,
     "metadata": {},
     "output_type": "execute_result"
    }
   ],
   "source": [
    "census['Industry'].value_counts()"
   ]
  },
  {
   "cell_type": "code",
   "execution_count": 57,
   "id": "ed147da6",
   "metadata": {},
   "outputs": [
    {
     "data": {
      "text/plain": [
       "count                                                569740\n",
       "unique                                                   13\n",
       "top       No code required - People aged under 16, peopl...\n",
       "freq                                                 149984\n",
       "Name: Industry, dtype: object"
      ]
     },
     "execution_count": 57,
     "metadata": {},
     "output_type": "execute_result"
    }
   ],
   "source": [
    "census['Industry'].describe()"
   ]
  },
  {
   "cell_type": "code",
   "execution_count": 58,
   "id": "c3580ed7",
   "metadata": {},
   "outputs": [],
   "source": [
    "Hours_worked_per_week  = {\n",
    "    \n",
    "    1 : 'Part-time: 15 or less hours worked',\n",
    "    2 : 'Part-time: 16 to 30 hours worked',\n",
    "    3 : 'Full-time: 31 to 48 hours worked',\n",
    "    4 : 'Full-time: 49 or more hours worked',\n",
    "    -9 : 'No code required - People aged under 16, people not working, and students or schoolchildren living away during term-time'\n",
    "    \n",
    "}\n",
    "\n",
    "census['Hours worked per week'] = census['Hours worked per week'].replace(Hours_worked_per_week)"
   ]
  },
  {
   "cell_type": "code",
   "execution_count": 59,
   "id": "47b199dd",
   "metadata": {},
   "outputs": [
    {
     "data": {
      "text/plain": [
       "Hours worked per week\n",
       "No code required - People aged under 16, people not working, and students or schoolchildren living away during term-time    302321\n",
       "Full-time: 31 to 48 hours worked                                                                                            153937\n",
       "Part-time: 16 to 30 hours worked                                                                                             52133\n",
       "Full-time: 49 or more hours worked                                                                                           35573\n",
       "Part-time: 15 or less hours worked                                                                                           25776\n",
       "Name: count, dtype: int64"
      ]
     },
     "execution_count": 59,
     "metadata": {},
     "output_type": "execute_result"
    }
   ],
   "source": [
    "census['Hours worked per week'].value_counts()"
   ]
  },
  {
   "cell_type": "code",
   "execution_count": 60,
   "id": "19241309",
   "metadata": {},
   "outputs": [
    {
     "data": {
      "text/plain": [
       "count                                                569740\n",
       "unique                                                    5\n",
       "top       No code required - People aged under 16, peopl...\n",
       "freq                                                 302321\n",
       "Name: Hours worked per week, dtype: object"
      ]
     },
     "execution_count": 60,
     "metadata": {},
     "output_type": "execute_result"
    }
   ],
   "source": [
    "census['Hours worked per week'].describe()"
   ]
  },
  {
   "cell_type": "code",
   "execution_count": 61,
   "id": "b1101713",
   "metadata": {},
   "outputs": [],
   "source": [
    "Approximated_social_grade  = {\n",
    "    \n",
    "    1 : 'AB -Higher & intermediate managerial, administrative, professional occupations ',\n",
    "    2 : 'C1 - Supervisory, clerical & junior managerial, administrative, professional occupations ',\n",
    "    3 : 'C2 - Skilled manual occupations',\n",
    "    4 : 'DE - Semi-skilled & unskilled manual occupations, Unemployed and lowest grade occupations',\n",
    "    -9 : 'No code required - People aged under 16, people resident in communal establishments, and students or schoolchildren living away during term-time'\n",
    "    \n",
    "}\n",
    "\n",
    "census['Approximated Social Grade'] = census['Approximated Social Grade'].replace(Approximated_social_grade)"
   ]
  },
  {
   "cell_type": "code",
   "execution_count": 62,
   "id": "144cc864",
   "metadata": {},
   "outputs": [
    {
     "data": {
      "text/plain": [
       "Approximated Social Grade\n",
       "C1 - Supervisory, clerical & junior managerial, administrative, professional occupations                                                            159642\n",
       "No code required - People aged under 16, people resident in communal establishments, and students or schoolchildren living away during term-time    124103\n",
       "DE - Semi-skilled & unskilled manual occupations, Unemployed and lowest grade occupations                                                           123739\n",
       "AB -Higher & intermediate managerial, administrative, professional occupations                                                                       82320\n",
       "C2 - Skilled manual occupations                                                                                                                      79936\n",
       "Name: count, dtype: int64"
      ]
     },
     "execution_count": 62,
     "metadata": {},
     "output_type": "execute_result"
    }
   ],
   "source": [
    "census['Approximated Social Grade'].value_counts()"
   ]
  },
  {
   "cell_type": "code",
   "execution_count": 63,
   "id": "437cc88e",
   "metadata": {},
   "outputs": [
    {
     "data": {
      "text/plain": [
       "count                                                569740\n",
       "unique                                                    5\n",
       "top       C1 - Supervisory, clerical & junior managerial...\n",
       "freq                                                 159642\n",
       "Name: Approximated Social Grade, dtype: object"
      ]
     },
     "execution_count": 63,
     "metadata": {},
     "output_type": "execute_result"
    }
   ],
   "source": [
    "census['Approximated Social Grade'].describe()"
   ]
  },
  {
   "cell_type": "code",
   "execution_count": 64,
   "id": "780b1db1",
   "metadata": {},
   "outputs": [
    {
     "data": {
      "text/html": [
       "<div>\n",
       "<style scoped>\n",
       "    .dataframe tbody tr th:only-of-type {\n",
       "        vertical-align: middle;\n",
       "    }\n",
       "\n",
       "    .dataframe tbody tr th {\n",
       "        vertical-align: top;\n",
       "    }\n",
       "\n",
       "    .dataframe thead th {\n",
       "        text-align: right;\n",
       "    }\n",
       "</style>\n",
       "<table border=\"1\" class=\"dataframe\">\n",
       "  <thead>\n",
       "    <tr style=\"text-align: right;\">\n",
       "      <th></th>\n",
       "      <th>Person ID</th>\n",
       "      <th>Region</th>\n",
       "      <th>Residence Type</th>\n",
       "      <th>Family Composition</th>\n",
       "      <th>Population Base</th>\n",
       "      <th>Sex</th>\n",
       "      <th>Age</th>\n",
       "      <th>Marital Status</th>\n",
       "      <th>Student</th>\n",
       "      <th>Country of Birth</th>\n",
       "      <th>Health</th>\n",
       "      <th>Ethnic Group</th>\n",
       "      <th>Religion</th>\n",
       "      <th>Economic Activity</th>\n",
       "      <th>Occupation</th>\n",
       "      <th>Industry</th>\n",
       "      <th>Hours worked per week</th>\n",
       "      <th>No of hours</th>\n",
       "      <th>Approximated Social Grade</th>\n",
       "      <th>Indutry</th>\n",
       "    </tr>\n",
       "  </thead>\n",
       "  <tbody>\n",
       "    <tr>\n",
       "      <th>0</th>\n",
       "      <td>7394816</td>\n",
       "      <td>North East</td>\n",
       "      <td>Not resident in a communal establishment</td>\n",
       "      <td>Married/same-sex civil partnership couple family</td>\n",
       "      <td>Usual resident</td>\n",
       "      <td>Female</td>\n",
       "      <td>55 to 64</td>\n",
       "      <td>Married or in a registered same-sex civil part...</td>\n",
       "      <td>No</td>\n",
       "      <td>UK</td>\n",
       "      <td>Good health</td>\n",
       "      <td>White</td>\n",
       "      <td>Christian</td>\n",
       "      <td>Economically inactive: Retired</td>\n",
       "      <td>Process, Plant and Machine Operatives</td>\n",
       "      <td>Mining and quarrying; Manufacturing; Electrici...</td>\n",
       "      <td>No code required - People aged under 16, peopl...</td>\n",
       "      <td>NaN</td>\n",
       "      <td>DE - Semi-skilled &amp; unskilled manual occupatio...</td>\n",
       "      <td>Mining and quarrying; Manufacturing; Electrici...</td>\n",
       "    </tr>\n",
       "    <tr>\n",
       "      <th>1</th>\n",
       "      <td>7394832</td>\n",
       "      <td>North East</td>\n",
       "      <td>Not resident in a communal establishment</td>\n",
       "      <td>Cohabiting couple family</td>\n",
       "      <td>Usual resident</td>\n",
       "      <td>Female</td>\n",
       "      <td>0 to 15</td>\n",
       "      <td>Single - never married or never registered a s...</td>\n",
       "      <td>No</td>\n",
       "      <td>UK</td>\n",
       "      <td>Good health</td>\n",
       "      <td>White</td>\n",
       "      <td>No religion</td>\n",
       "      <td>No code required- Aged under 16 or students or...</td>\n",
       "      <td>No code required - People aged under 16, peopl...</td>\n",
       "      <td>No code required - People aged under 16, peopl...</td>\n",
       "      <td>No code required - People aged under 16, peopl...</td>\n",
       "      <td>NaN</td>\n",
       "      <td>No code required - People aged under 16, peopl...</td>\n",
       "      <td>No code required - People aged under 16, peopl...</td>\n",
       "    </tr>\n",
       "    <tr>\n",
       "      <th>2</th>\n",
       "      <td>7394719</td>\n",
       "      <td>North East</td>\n",
       "      <td>Not resident in a communal establishment</td>\n",
       "      <td>Married/same-sex civil partnership couple family</td>\n",
       "      <td>Usual resident</td>\n",
       "      <td>Male</td>\n",
       "      <td>65 to 74</td>\n",
       "      <td>Married or in a registered same-sex civil part...</td>\n",
       "      <td>No</td>\n",
       "      <td>UK</td>\n",
       "      <td>Very good health</td>\n",
       "      <td>White</td>\n",
       "      <td>Christian</td>\n",
       "      <td>Economically inactive: Retired</td>\n",
       "      <td>Process, Plant and Machine Operatives</td>\n",
       "      <td>Mining and quarrying; Manufacturing; Electrici...</td>\n",
       "      <td>No code required - People aged under 16, peopl...</td>\n",
       "      <td>NaN</td>\n",
       "      <td>C1 - Supervisory, clerical &amp; junior managerial...</td>\n",
       "      <td>Mining and quarrying; Manufacturing; Electrici...</td>\n",
       "    </tr>\n",
       "    <tr>\n",
       "      <th>3</th>\n",
       "      <td>7394840</td>\n",
       "      <td>North East</td>\n",
       "      <td>Not resident in a communal establishment</td>\n",
       "      <td>Not in a family</td>\n",
       "      <td>Usual resident</td>\n",
       "      <td>Female</td>\n",
       "      <td>55 to 64</td>\n",
       "      <td>Divorced or formerly in a same-sex civil partn...</td>\n",
       "      <td>No</td>\n",
       "      <td>UK</td>\n",
       "      <td>Fair health</td>\n",
       "      <td>White</td>\n",
       "      <td>Christian</td>\n",
       "      <td>Economically inactive: Retired</td>\n",
       "      <td>Elementary Occupations</td>\n",
       "      <td>Accommodation and food service activities</td>\n",
       "      <td>No code required - People aged under 16, peopl...</td>\n",
       "      <td>NaN</td>\n",
       "      <td>DE - Semi-skilled &amp; unskilled manual occupatio...</td>\n",
       "      <td>Accommodation and food service activities</td>\n",
       "    </tr>\n",
       "    <tr>\n",
       "      <th>4</th>\n",
       "      <td>7394711</td>\n",
       "      <td>North East</td>\n",
       "      <td>Not resident in a communal establishment</td>\n",
       "      <td>Married/same-sex civil partnership couple family</td>\n",
       "      <td>Usual resident</td>\n",
       "      <td>Male</td>\n",
       "      <td>0 to 15</td>\n",
       "      <td>Single - never married or never registered a s...</td>\n",
       "      <td>Yes</td>\n",
       "      <td>UK</td>\n",
       "      <td>Very good health</td>\n",
       "      <td>White</td>\n",
       "      <td>No religion</td>\n",
       "      <td>No code required- Aged under 16 or students or...</td>\n",
       "      <td>No code required - People aged under 16, peopl...</td>\n",
       "      <td>No code required - People aged under 16, peopl...</td>\n",
       "      <td>No code required - People aged under 16, peopl...</td>\n",
       "      <td>NaN</td>\n",
       "      <td>No code required - People aged under 16, peopl...</td>\n",
       "      <td>No code required - People aged under 16, peopl...</td>\n",
       "    </tr>\n",
       "  </tbody>\n",
       "</table>\n",
       "</div>"
      ],
      "text/plain": [
       "   Person ID      Region                            Residence Type  \\\n",
       "0    7394816  North East  Not resident in a communal establishment   \n",
       "1    7394832  North East  Not resident in a communal establishment   \n",
       "2    7394719  North East  Not resident in a communal establishment   \n",
       "3    7394840  North East  Not resident in a communal establishment   \n",
       "4    7394711  North East  Not resident in a communal establishment   \n",
       "\n",
       "                                 Family Composition Population Base     Sex  \\\n",
       "0  Married/same-sex civil partnership couple family  Usual resident  Female   \n",
       "1                          Cohabiting couple family  Usual resident  Female   \n",
       "2  Married/same-sex civil partnership couple family  Usual resident    Male   \n",
       "3                                   Not in a family  Usual resident  Female   \n",
       "4  Married/same-sex civil partnership couple family  Usual resident    Male   \n",
       "\n",
       "        Age                                     Marital Status Student  \\\n",
       "0  55 to 64  Married or in a registered same-sex civil part...      No   \n",
       "1   0 to 15  Single - never married or never registered a s...      No   \n",
       "2  65 to 74  Married or in a registered same-sex civil part...      No   \n",
       "3  55 to 64  Divorced or formerly in a same-sex civil partn...      No   \n",
       "4   0 to 15  Single - never married or never registered a s...     Yes   \n",
       "\n",
       "  Country of Birth            Health Ethnic Group     Religion  \\\n",
       "0               UK       Good health        White    Christian   \n",
       "1               UK       Good health        White  No religion   \n",
       "2               UK  Very good health        White    Christian   \n",
       "3               UK       Fair health        White    Christian   \n",
       "4               UK  Very good health        White  No religion   \n",
       "\n",
       "                                   Economic Activity  \\\n",
       "0                     Economically inactive: Retired   \n",
       "1  No code required- Aged under 16 or students or...   \n",
       "2                     Economically inactive: Retired   \n",
       "3                     Economically inactive: Retired   \n",
       "4  No code required- Aged under 16 or students or...   \n",
       "\n",
       "                                          Occupation  \\\n",
       "0              Process, Plant and Machine Operatives   \n",
       "1  No code required - People aged under 16, peopl...   \n",
       "2              Process, Plant and Machine Operatives   \n",
       "3                             Elementary Occupations   \n",
       "4  No code required - People aged under 16, peopl...   \n",
       "\n",
       "                                            Industry  \\\n",
       "0  Mining and quarrying; Manufacturing; Electrici...   \n",
       "1  No code required - People aged under 16, peopl...   \n",
       "2  Mining and quarrying; Manufacturing; Electrici...   \n",
       "3          Accommodation and food service activities   \n",
       "4  No code required - People aged under 16, peopl...   \n",
       "\n",
       "                               Hours worked per week  No of hours  \\\n",
       "0  No code required - People aged under 16, peopl...          NaN   \n",
       "1  No code required - People aged under 16, peopl...          NaN   \n",
       "2  No code required - People aged under 16, peopl...          NaN   \n",
       "3  No code required - People aged under 16, peopl...          NaN   \n",
       "4  No code required - People aged under 16, peopl...          NaN   \n",
       "\n",
       "                           Approximated Social Grade  \\\n",
       "0  DE - Semi-skilled & unskilled manual occupatio...   \n",
       "1  No code required - People aged under 16, peopl...   \n",
       "2  C1 - Supervisory, clerical & junior managerial...   \n",
       "3  DE - Semi-skilled & unskilled manual occupatio...   \n",
       "4  No code required - People aged under 16, peopl...   \n",
       "\n",
       "                                             Indutry  \n",
       "0  Mining and quarrying; Manufacturing; Electrici...  \n",
       "1  No code required - People aged under 16, peopl...  \n",
       "2  Mining and quarrying; Manufacturing; Electrici...  \n",
       "3          Accommodation and food service activities  \n",
       "4  No code required - People aged under 16, peopl...  "
      ]
     },
     "execution_count": 64,
     "metadata": {},
     "output_type": "execute_result"
    }
   ],
   "source": [
    "census.head()"
   ]
  },
  {
   "cell_type": "code",
   "execution_count": 65,
   "id": "6328b28d",
   "metadata": {},
   "outputs": [],
   "source": [
    "del census['Person ID']"
   ]
  },
  {
   "cell_type": "code",
   "execution_count": 66,
   "id": "53ed2a40",
   "metadata": {},
   "outputs": [
    {
     "data": {
      "text/html": [
       "<div>\n",
       "<style scoped>\n",
       "    .dataframe tbody tr th:only-of-type {\n",
       "        vertical-align: middle;\n",
       "    }\n",
       "\n",
       "    .dataframe tbody tr th {\n",
       "        vertical-align: top;\n",
       "    }\n",
       "\n",
       "    .dataframe thead th {\n",
       "        text-align: right;\n",
       "    }\n",
       "</style>\n",
       "<table border=\"1\" class=\"dataframe\">\n",
       "  <thead>\n",
       "    <tr style=\"text-align: right;\">\n",
       "      <th></th>\n",
       "      <th>Region</th>\n",
       "      <th>Residence Type</th>\n",
       "      <th>Family Composition</th>\n",
       "      <th>Population Base</th>\n",
       "      <th>Sex</th>\n",
       "      <th>Age</th>\n",
       "      <th>Marital Status</th>\n",
       "      <th>Student</th>\n",
       "      <th>Country of Birth</th>\n",
       "      <th>Health</th>\n",
       "      <th>Ethnic Group</th>\n",
       "      <th>Religion</th>\n",
       "      <th>Economic Activity</th>\n",
       "      <th>Occupation</th>\n",
       "      <th>Industry</th>\n",
       "      <th>Hours worked per week</th>\n",
       "      <th>No of hours</th>\n",
       "      <th>Approximated Social Grade</th>\n",
       "      <th>Indutry</th>\n",
       "    </tr>\n",
       "  </thead>\n",
       "  <tbody>\n",
       "    <tr>\n",
       "      <th>0</th>\n",
       "      <td>North East</td>\n",
       "      <td>Not resident in a communal establishment</td>\n",
       "      <td>Married/same-sex civil partnership couple family</td>\n",
       "      <td>Usual resident</td>\n",
       "      <td>Female</td>\n",
       "      <td>55 to 64</td>\n",
       "      <td>Married or in a registered same-sex civil part...</td>\n",
       "      <td>No</td>\n",
       "      <td>UK</td>\n",
       "      <td>Good health</td>\n",
       "      <td>White</td>\n",
       "      <td>Christian</td>\n",
       "      <td>Economically inactive: Retired</td>\n",
       "      <td>Process, Plant and Machine Operatives</td>\n",
       "      <td>Mining and quarrying; Manufacturing; Electrici...</td>\n",
       "      <td>No code required - People aged under 16, peopl...</td>\n",
       "      <td>NaN</td>\n",
       "      <td>DE - Semi-skilled &amp; unskilled manual occupatio...</td>\n",
       "      <td>Mining and quarrying; Manufacturing; Electrici...</td>\n",
       "    </tr>\n",
       "    <tr>\n",
       "      <th>1</th>\n",
       "      <td>North East</td>\n",
       "      <td>Not resident in a communal establishment</td>\n",
       "      <td>Cohabiting couple family</td>\n",
       "      <td>Usual resident</td>\n",
       "      <td>Female</td>\n",
       "      <td>0 to 15</td>\n",
       "      <td>Single - never married or never registered a s...</td>\n",
       "      <td>No</td>\n",
       "      <td>UK</td>\n",
       "      <td>Good health</td>\n",
       "      <td>White</td>\n",
       "      <td>No religion</td>\n",
       "      <td>No code required- Aged under 16 or students or...</td>\n",
       "      <td>No code required - People aged under 16, peopl...</td>\n",
       "      <td>No code required - People aged under 16, peopl...</td>\n",
       "      <td>No code required - People aged under 16, peopl...</td>\n",
       "      <td>NaN</td>\n",
       "      <td>No code required - People aged under 16, peopl...</td>\n",
       "      <td>No code required - People aged under 16, peopl...</td>\n",
       "    </tr>\n",
       "    <tr>\n",
       "      <th>2</th>\n",
       "      <td>North East</td>\n",
       "      <td>Not resident in a communal establishment</td>\n",
       "      <td>Married/same-sex civil partnership couple family</td>\n",
       "      <td>Usual resident</td>\n",
       "      <td>Male</td>\n",
       "      <td>65 to 74</td>\n",
       "      <td>Married or in a registered same-sex civil part...</td>\n",
       "      <td>No</td>\n",
       "      <td>UK</td>\n",
       "      <td>Very good health</td>\n",
       "      <td>White</td>\n",
       "      <td>Christian</td>\n",
       "      <td>Economically inactive: Retired</td>\n",
       "      <td>Process, Plant and Machine Operatives</td>\n",
       "      <td>Mining and quarrying; Manufacturing; Electrici...</td>\n",
       "      <td>No code required - People aged under 16, peopl...</td>\n",
       "      <td>NaN</td>\n",
       "      <td>C1 - Supervisory, clerical &amp; junior managerial...</td>\n",
       "      <td>Mining and quarrying; Manufacturing; Electrici...</td>\n",
       "    </tr>\n",
       "    <tr>\n",
       "      <th>3</th>\n",
       "      <td>North East</td>\n",
       "      <td>Not resident in a communal establishment</td>\n",
       "      <td>Not in a family</td>\n",
       "      <td>Usual resident</td>\n",
       "      <td>Female</td>\n",
       "      <td>55 to 64</td>\n",
       "      <td>Divorced or formerly in a same-sex civil partn...</td>\n",
       "      <td>No</td>\n",
       "      <td>UK</td>\n",
       "      <td>Fair health</td>\n",
       "      <td>White</td>\n",
       "      <td>Christian</td>\n",
       "      <td>Economically inactive: Retired</td>\n",
       "      <td>Elementary Occupations</td>\n",
       "      <td>Accommodation and food service activities</td>\n",
       "      <td>No code required - People aged under 16, peopl...</td>\n",
       "      <td>NaN</td>\n",
       "      <td>DE - Semi-skilled &amp; unskilled manual occupatio...</td>\n",
       "      <td>Accommodation and food service activities</td>\n",
       "    </tr>\n",
       "    <tr>\n",
       "      <th>4</th>\n",
       "      <td>North East</td>\n",
       "      <td>Not resident in a communal establishment</td>\n",
       "      <td>Married/same-sex civil partnership couple family</td>\n",
       "      <td>Usual resident</td>\n",
       "      <td>Male</td>\n",
       "      <td>0 to 15</td>\n",
       "      <td>Single - never married or never registered a s...</td>\n",
       "      <td>Yes</td>\n",
       "      <td>UK</td>\n",
       "      <td>Very good health</td>\n",
       "      <td>White</td>\n",
       "      <td>No religion</td>\n",
       "      <td>No code required- Aged under 16 or students or...</td>\n",
       "      <td>No code required - People aged under 16, peopl...</td>\n",
       "      <td>No code required - People aged under 16, peopl...</td>\n",
       "      <td>No code required - People aged under 16, peopl...</td>\n",
       "      <td>NaN</td>\n",
       "      <td>No code required - People aged under 16, peopl...</td>\n",
       "      <td>No code required - People aged under 16, peopl...</td>\n",
       "    </tr>\n",
       "  </tbody>\n",
       "</table>\n",
       "</div>"
      ],
      "text/plain": [
       "       Region                            Residence Type  \\\n",
       "0  North East  Not resident in a communal establishment   \n",
       "1  North East  Not resident in a communal establishment   \n",
       "2  North East  Not resident in a communal establishment   \n",
       "3  North East  Not resident in a communal establishment   \n",
       "4  North East  Not resident in a communal establishment   \n",
       "\n",
       "                                 Family Composition Population Base     Sex  \\\n",
       "0  Married/same-sex civil partnership couple family  Usual resident  Female   \n",
       "1                          Cohabiting couple family  Usual resident  Female   \n",
       "2  Married/same-sex civil partnership couple family  Usual resident    Male   \n",
       "3                                   Not in a family  Usual resident  Female   \n",
       "4  Married/same-sex civil partnership couple family  Usual resident    Male   \n",
       "\n",
       "        Age                                     Marital Status Student  \\\n",
       "0  55 to 64  Married or in a registered same-sex civil part...      No   \n",
       "1   0 to 15  Single - never married or never registered a s...      No   \n",
       "2  65 to 74  Married or in a registered same-sex civil part...      No   \n",
       "3  55 to 64  Divorced or formerly in a same-sex civil partn...      No   \n",
       "4   0 to 15  Single - never married or never registered a s...     Yes   \n",
       "\n",
       "  Country of Birth            Health Ethnic Group     Religion  \\\n",
       "0               UK       Good health        White    Christian   \n",
       "1               UK       Good health        White  No religion   \n",
       "2               UK  Very good health        White    Christian   \n",
       "3               UK       Fair health        White    Christian   \n",
       "4               UK  Very good health        White  No religion   \n",
       "\n",
       "                                   Economic Activity  \\\n",
       "0                     Economically inactive: Retired   \n",
       "1  No code required- Aged under 16 or students or...   \n",
       "2                     Economically inactive: Retired   \n",
       "3                     Economically inactive: Retired   \n",
       "4  No code required- Aged under 16 or students or...   \n",
       "\n",
       "                                          Occupation  \\\n",
       "0              Process, Plant and Machine Operatives   \n",
       "1  No code required - People aged under 16, peopl...   \n",
       "2              Process, Plant and Machine Operatives   \n",
       "3                             Elementary Occupations   \n",
       "4  No code required - People aged under 16, peopl...   \n",
       "\n",
       "                                            Industry  \\\n",
       "0  Mining and quarrying; Manufacturing; Electrici...   \n",
       "1  No code required - People aged under 16, peopl...   \n",
       "2  Mining and quarrying; Manufacturing; Electrici...   \n",
       "3          Accommodation and food service activities   \n",
       "4  No code required - People aged under 16, peopl...   \n",
       "\n",
       "                               Hours worked per week  No of hours  \\\n",
       "0  No code required - People aged under 16, peopl...          NaN   \n",
       "1  No code required - People aged under 16, peopl...          NaN   \n",
       "2  No code required - People aged under 16, peopl...          NaN   \n",
       "3  No code required - People aged under 16, peopl...          NaN   \n",
       "4  No code required - People aged under 16, peopl...          NaN   \n",
       "\n",
       "                           Approximated Social Grade  \\\n",
       "0  DE - Semi-skilled & unskilled manual occupatio...   \n",
       "1  No code required - People aged under 16, peopl...   \n",
       "2  C1 - Supervisory, clerical & junior managerial...   \n",
       "3  DE - Semi-skilled & unskilled manual occupatio...   \n",
       "4  No code required - People aged under 16, peopl...   \n",
       "\n",
       "                                             Indutry  \n",
       "0  Mining and quarrying; Manufacturing; Electrici...  \n",
       "1  No code required - People aged under 16, peopl...  \n",
       "2  Mining and quarrying; Manufacturing; Electrici...  \n",
       "3          Accommodation and food service activities  \n",
       "4  No code required - People aged under 16, peopl...  "
      ]
     },
     "execution_count": 66,
     "metadata": {},
     "output_type": "execute_result"
    }
   ],
   "source": [
    "census.head()"
   ]
  },
  {
   "cell_type": "code",
   "execution_count": 67,
   "id": "da987c68",
   "metadata": {},
   "outputs": [
    {
     "data": {
      "text/plain": [
       "(569740, 19)"
      ]
     },
     "execution_count": 67,
     "metadata": {},
     "output_type": "execute_result"
    }
   ],
   "source": [
    "census.shape"
   ]
  },
  {
   "cell_type": "code",
   "execution_count": 68,
   "id": "a0308930",
   "metadata": {},
   "outputs": [
    {
     "data": {
      "text/plain": [
       "Index(['Region', 'Residence Type', 'Family Composition', 'Population Base',\n",
       "       'Sex', 'Age', 'Marital Status', 'Student', 'Country of Birth', 'Health',\n",
       "       'Ethnic Group', 'Religion', 'Economic Activity', 'Occupation',\n",
       "       'Industry', 'Hours worked per week', 'No of hours',\n",
       "       'Approximated Social Grade', 'Indutry'],\n",
       "      dtype='object')"
      ]
     },
     "execution_count": 68,
     "metadata": {},
     "output_type": "execute_result"
    }
   ],
   "source": [
    "census.keys()"
   ]
  },
  {
   "cell_type": "code",
   "execution_count": 69,
   "id": "7d473697",
   "metadata": {},
   "outputs": [
    {
     "data": {
      "text/html": [
       "<div>\n",
       "<style scoped>\n",
       "    .dataframe tbody tr th:only-of-type {\n",
       "        vertical-align: middle;\n",
       "    }\n",
       "\n",
       "    .dataframe tbody tr th {\n",
       "        vertical-align: top;\n",
       "    }\n",
       "\n",
       "    .dataframe thead th {\n",
       "        text-align: right;\n",
       "    }\n",
       "</style>\n",
       "<table border=\"1\" class=\"dataframe\">\n",
       "  <thead>\n",
       "    <tr style=\"text-align: right;\">\n",
       "      <th></th>\n",
       "      <th>No of hours</th>\n",
       "    </tr>\n",
       "  </thead>\n",
       "  <tbody>\n",
       "    <tr>\n",
       "      <th>count</th>\n",
       "      <td>267419.000000</td>\n",
       "    </tr>\n",
       "    <tr>\n",
       "      <th>mean</th>\n",
       "      <td>35.234789</td>\n",
       "    </tr>\n",
       "    <tr>\n",
       "      <th>std</th>\n",
       "      <td>13.520881</td>\n",
       "    </tr>\n",
       "    <tr>\n",
       "      <th>min</th>\n",
       "      <td>1.000000</td>\n",
       "    </tr>\n",
       "    <tr>\n",
       "      <th>25%</th>\n",
       "      <td>27.000000</td>\n",
       "    </tr>\n",
       "    <tr>\n",
       "      <th>50%</th>\n",
       "      <td>37.000000</td>\n",
       "    </tr>\n",
       "    <tr>\n",
       "      <th>75%</th>\n",
       "      <td>45.000000</td>\n",
       "    </tr>\n",
       "    <tr>\n",
       "      <th>max</th>\n",
       "      <td>60.000000</td>\n",
       "    </tr>\n",
       "  </tbody>\n",
       "</table>\n",
       "</div>"
      ],
      "text/plain": [
       "         No of hours\n",
       "count  267419.000000\n",
       "mean       35.234789\n",
       "std        13.520881\n",
       "min         1.000000\n",
       "25%        27.000000\n",
       "50%        37.000000\n",
       "75%        45.000000\n",
       "max        60.000000"
      ]
     },
     "execution_count": 69,
     "metadata": {},
     "output_type": "execute_result"
    }
   ],
   "source": [
    "census.describe()"
   ]
  },
  {
   "cell_type": "code",
   "execution_count": 71,
   "id": "ba9a62cc",
   "metadata": {},
   "outputs": [],
   "source": [
    "#census.to_csv('census_catgr.csv', index=False"
   ]
  },
  {
   "cell_type": "code",
   "execution_count": 75,
   "id": "8660711a",
   "metadata": {},
   "outputs": [
    {
     "data": {
      "text/plain": [
       "<Axes: >"
      ]
     },
     "execution_count": 75,
     "metadata": {},
     "output_type": "execute_result"
    },
    {
     "data": {
      "image/png": "[encoded data removed]",
      "text/plain": [
       "<Figure size 640x480 with 1 Axes>"
      ]
     },
     "metadata": {},
     "output_type": "display_data"
    }
   ],
   "source": [
    "census.pivot(columns='Sex', values='No of hours').plot(kind='box')"
   ]
  },
  {
   "cell_type": "code",
   "execution_count": 73,
   "id": "552d99d7",
   "metadata": {},
   "outputs": [
    {
     "data": {
      "text/plain": [
       "<Axes: >"
      ]
     },
     "execution_count": 73,
     "metadata": {},
     "output_type": "execute_result"
    },
    {
     "data": {
      "image/png": "[encoded data removed]",
      "text/plain": [
       "<Figure size 640x480 with 1 Axes>"
      ]
     },
     "metadata": {},
     "output_type": "display_data"
    }
   ],
   "source": [
    "census['No of hours'].hist()"
   ]
  },
  {
   "cell_type": "code",
   "execution_count": 74,
   "id": "0bb4044e",
   "metadata": {},
   "outputs": [
    {
     "data": {
      "text/plain": [
       "<Axes: ylabel='Industry'>"
      ]
     },
     "execution_count": 74,
     "metadata": {},
     "output_type": "execute_result"
    },
    {
     "data": {
      "image/png": "[encoded data removed]",
      "text/plain": [
       "<Figure size 640x480 with 1 Axes>"
      ]
     },
     "metadata": {},
     "output_type": "display_data"
    }
   ],
   "source": [
    "census.groupby('Industry')['No of hours'].mean().plot(kind='barh')"
   ]
  },
  {
   "cell_type": "code",
   "execution_count": 79,
   "id": "708f9ea2",
   "metadata": {},
   "outputs": [
    {
     "data": {
      "text/plain": [
       "<Axes: ylabel='Marital Status'>"
      ]
     },
     "execution_count": 79,
     "metadata": {},
     "output_type": "execute_result"
    },
    {
     "data": {
      "image/png": "[encoded data removed]",
      "text/plain": [
       "<Figure size 640x480 with 1 Axes>"
      ]
     },
     "metadata": {},
     "output_type": "display_data"
    }
   ],
   "source": [
    "census.groupby('Marital Status')['Residence Type'].value_counts().unstack().plot(kind='barh', stacked=True)"
   ]
  },
  {
   "cell_type": "code",
   "execution_count": 82,
   "id": "b27663ef",
   "metadata": {},
   "outputs": [
    {
     "data": {
      "text/plain": [
       "<Axes: xlabel='Occupation'>"
      ]
     },
     "execution_count": 82,
     "metadata": {},
     "output_type": "execute_result"
    },
    {
     "data": {
      "image/png": "[encoded data removed]",
      "text/plain": [
       "<Figure size 640x480 with 1 Axes>"
      ]
     },
     "metadata": {},
     "output_type": "display_data"
    }
   ],
   "source": [
    "census.groupby('Occupation')['No of hours'].mean().plot(kind='bar')"
   ]
  },
  {
   "cell_type": "code",
   "execution_count": null,
   "id": "c96c2e58",
   "metadata": {},
   "outputs": [],
   "source": []
  }
 ],
 "metadata": {
  "kernelspec": {
   "display_name": "Python 3 (ipykernel)",
   "language": "python",
   "name": "python3"
  },
  "language_info": {
   "codemirror_mode": {
    "name": "ipython",
    "version": 3
   },
   "file_extension": ".py",
   "mimetype": "text/x-python",
   "name": "python",
   "nbconvert_exporter": "python",
   "pygments_lexer": "ipython3",
   "version": "3.11.5"
  }
 },
 "nbformat": 4,
 "nbformat_minor": 5
}
